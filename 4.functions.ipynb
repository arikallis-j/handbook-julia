{
 "cells": [
  {
   "cell_type": "markdown",
   "metadata": {},
   "source": [
    "# 4. Основы синтасксиса: Функции и Структуры\n"
   ]
  },
  {
   "cell_type": "markdown",
   "metadata": {},
   "source": [
    "## 4.1. Функции"
   ]
  },
  {
   "cell_type": "markdown",
   "metadata": {},
   "source": [
    "Рассмотрим основной синтаксис для функций в Julia. Как уже отмечалось, команда `return` необязательна: функция в Julia возвращает результат последнего выражения, однако, мы будем придерживаться [`Blue CodeStyle`](https://github.com/JuliaDiff/BlueStyle)"
   ]
  },
  {
   "cell_type": "code",
   "execution_count": 578,
   "metadata": {},
   "outputs": [
    {
     "name": "stdout",
     "output_type": "stream",
     "text": [
      "map(r, 3, 4) = 5.0\n",
      "map(r_1, 3, 4) = 5.0\n",
      "map(r_2, 3, 4) = 5.0\n"
     ]
    }
   ],
   "source": [
    "# Основной синтаксис для функции\n",
    "function r(x, y)\n",
    "    return sqrt(x^2 + y^2)\n",
    "end\n",
    "\n",
    "# Краткий синтаксис\n",
    "r_1(x, y) = sqrt(x^2 + y^2)\n",
    "\n",
    "# Присвоение анонимной функции\n",
    "r_2 = (x, y) -> sqrt(x^2 + y^2)\n",
    "\n",
    "\n",
    "@show map(r, 3, 4) # Функция map применяет функцию r_3 с аргументами 3, 4\n",
    "@show map(r_1, 3, 4)\n",
    "@show map(r_2, 3, 4); "
   ]
  },
  {
   "cell_type": "markdown",
   "metadata": {},
   "source": [
    "Также для присвоения анонимной функции можно использовать конструкцию `begin-end`. В Julia не используются фигурные скобки, поэтому для любого выделения области видимости можно использовать `begin-end`."
   ]
  },
  {
   "cell_type": "code",
   "execution_count": 579,
   "metadata": {},
   "outputs": [
    {
     "name": "stdout",
     "output_type": "stream",
     "text": [
      "map(r_4, 3, 4) = 10.0\n",
      "map(r_5, 3, 4) = 10.0\n"
     ]
    }
   ],
   "source": [
    "# В несколько строк\n",
    "r_4(x, y) = begin         \n",
    "                z = r(x, y)\n",
    "                return 2.0*z\n",
    "            end\n",
    "# Или в одну строчку\n",
    "r_5(x, y) = begin z = r(x,y); return 2.0 * z end\n",
    "@show map(r_4, 3, 4)\n",
    "@show map(r_5, 3, 4); "
   ]
  },
  {
   "cell_type": "markdown",
   "metadata": {},
   "source": [
    "В теле функции может находиться несколько команд `return`, в этом случае при вызове сработает только одна из них.\n",
    "Если необходимо, чтобы функция ничего не возвращала, тогда используется `return nothing`.\n",
    "Тип `Nothing` имеет лишь одно значение `nothing`, представляющее в Julia отутствие значения.\n"
   ]
  },
  {
   "cell_type": "code",
   "execution_count": 580,
   "metadata": {},
   "outputs": [
    {
     "name": "stdout",
     "output_type": "stream",
     "text": [
      "Hi John, it's great to see you!\n",
      "result = nothing\n",
      "typeof(result) = Nothing\n"
     ]
    }
   ],
   "source": [
    "function sayhi(name)\n",
    "    println(\"Hi $name, it's great to see you!\")\n",
    "end\n",
    "\n",
    "result = sayhi(\"John\")\n",
    "\n",
    "@show result\n",
    "@show typeof(result);"
   ]
  },
  {
   "cell_type": "markdown",
   "metadata": {},
   "source": [
    "### Утиная типизация"
   ]
  },
  {
   "cell_type": "markdown",
   "metadata": {},
   "source": [
    "*\"Если она крякает как утка, это утка.\"* \n",
    "\n",
    "Функции Julia будут работать только с теми входными данными, которые имеют смысл. Например, теперь функция `say` работает над именем, записанным как целое число. \n",
    "\n",
    "А функция `f` будет работать и на матрице, а также будет работать со строкой типа \"hi\", потому что `*` определено для строковых входов как конкатенация строк."
   ]
  },
  {
   "cell_type": "code",
   "execution_count": 581,
   "metadata": {},
   "outputs": [
    {
     "name": "stdout",
     "output_type": "stream",
     "text": [
      "say(55595472) = \"They said: 55595472\"\n",
      "f(rand(2, 2)) = [0.08088585797803204 0.14588530617402243; 0.011231549573964415 0.056470987057099596]\n",
      "f(\"hi\") = \"hihi\"\n"
     ]
    }
   ],
   "source": [
    "f(x) = x^2\n",
    "say(phrase) = \"They said: $phrase\"\n",
    "\n",
    "@show say(55595472)\n",
    "@show f(rand(2, 2))\n",
    "@show f(\"hi\");"
   ]
  },
  {
   "cell_type": "markdown",
   "metadata": {},
   "source": [
    "### Mutating vs. non-mutating functions"
   ]
  },
  {
   "cell_type": "markdown",
   "metadata": {},
   "source": [
    "\n",
    "По соглашению, функции, сопровождаемые `!`, изменяют свое содержимое, а функции без `!`, не делают этого. \n",
    "\n",
    "Например, давайте посмотрим на разницу между `sort` и` sort! `."
   ]
  },
  {
   "cell_type": "code",
   "execution_count": 582,
   "metadata": {},
   "outputs": [
    {
     "name": "stdout",
     "output_type": "stream",
     "text": [
      "vector = [3, 5, 2]\n",
      "sort(vector; rev = true) = [5, 3, 2]\n",
      "vector = [3, 5, 2]\n",
      "sort!(vector; rev = true) = [5, 3, 2]\n",
      "vector = [5, 3, 2]\n"
     ]
    }
   ],
   "source": [
    "\n",
    "vector = [3, 5, 2]\n",
    "@show vector\n",
    "\n",
    "@show sort(vector; rev = true) # сортировка элементов vector\n",
    "@show vector\n",
    "\n",
    "@show sort!(vector; rev = true) # сортировка элементов с изменением vector\n",
    "@show vector;"
   ]
  },
  {
   "cell_type": "markdown",
   "metadata": {},
   "source": [
    "### Векторизация функций"
   ]
  },
  {
   "cell_type": "markdown",
   "metadata": {},
   "source": [
    "\n",
    "В Julia *любая функция* может быть векторизована. Т.е. вы можете создать функцию для скаляров и автоматически получаете её векторизованный аналог. Векторизация осуществляется через механизм *broadcasting*. При этом достаточно в конце имени функции дописать точку `.` (*dot-syntax*).\n"
   ]
  },
  {
   "cell_type": "code",
   "execution_count": 584,
   "metadata": {},
   "outputs": [
    {
     "name": "stdout",
     "output_type": "stream",
     "text": [
      "x = [0, π / 6, π / 3] = [0.0, 0.5235987755982988, 1.0471975511965976]\n",
      "sin.(x) = [0.0, 0.49999999999999994, 0.8660254037844386]\n"
     ]
    }
   ],
   "source": [
    "@show x = [0, π/6, π/3]\n",
    "@show sin.(x);"
   ]
  },
  {
   "cell_type": "markdown",
   "metadata": {},
   "source": [
    "Механизм векторизации «насыщен» (fused). Для программиста это означает, что сложный вызов, например, sin.(cos.(x)) не медленнее цикла, в котором к каждому элементу вектора x применили sin(cos(x[i])).\n",
    "\n",
    "Автоматически векторизуются и пользовательские функции (см. дальше) над стандартными типами.\n"
   ]
  },
  {
   "cell_type": "code",
   "execution_count": 2,
   "metadata": {},
   "outputs": [
    {
     "name": "stdout",
     "output_type": "stream",
     "text": [
      "f.([1, 2, 3]) = [2, 5, 10]\n",
      "g.([1, 2], [3, 4]) = [12, 22]\n",
      "g.([1, 2], 3) = [12, 15]\n"
     ]
    }
   ],
   "source": [
    "f(x) = x^2 + 1\n",
    "@show f.([1, 2, 3])\n",
    "\n",
    "g(x, y) = f(x) + f(y)\n",
    "@show g.([1, 2], [3, 4])\n",
    "@show g.([1, 2], 3);\n"
   ]
  },
  {
   "cell_type": "markdown",
   "metadata": {},
   "source": [
    "Операторы тоже функции. Так, broadcast порождает, например, поэлементные операции над векторами и матрицами (`.+`, `.*`, etc...)."
   ]
  },
  {
   "cell_type": "code",
   "execution_count": 586,
   "metadata": {},
   "outputs": [
    {
     "name": "stdout",
     "output_type": "stream",
     "text": [
      "(2 * sin.(x)) .* cos.(x) = [0.0, 0.8660254037844386, 0.8660254037844388]\n",
      "sin.(2x) = [0.0, 0.8660254037844386, 0.8660254037844387]\n"
     ]
    },
    {
     "data": {
      "text/plain": [
       "3-element Vector{Float64}:\n",
       " 0.0\n",
       " 0.8660254037844386\n",
       " 0.8660254037844387"
      ]
     },
     "metadata": {},
     "output_type": "display_data"
    }
   ],
   "source": [
    "@show 2 * sin.(x) .* cos.(x)\n",
    "@show sin.(2 * x)"
   ]
  },
  {
   "cell_type": "markdown",
   "metadata": {},
   "source": [
    "*Полиморфизм*\n",
    "\n",
    "В этом примере несколько поэлементых видов умножений.\n",
    "\n",
    "- `2 * x`: умножение скаляра на вектор, оно и без броадкаста действует поэлементно;\n",
    "- `x .* y`: поэлементное умножение векторов.\n",
    "\n",
    "Если вам надоедает ставить точки везде, воспользуйтесь макросом `@.`\n"
   ]
  },
  {
   "cell_type": "code",
   "execution_count": 587,
   "metadata": {},
   "outputs": [
    {
     "name": "stdout",
     "output_type": "stream",
     "text": [
      "z = [0.0, 0.8660254037844386, 0.8660254037844388]\n"
     ]
    }
   ],
   "source": [
    "z = @. 2 * sin(x) * cos(x)\n",
    "@show z;"
   ]
  },
  {
   "cell_type": "markdown",
   "metadata": {},
   "source": [
    "## 4.2. Типы в Julia"
   ]
  },
  {
   "cell_type": "markdown",
   "metadata": {},
   "source": [
    "В Julia типы упорядочены в *дерево*, образуя систему.\n",
    "В этом дереве есть самые разные ветви: для числовых типов, строковых, массивов...\n",
    "В свою очередь, для функции можно написать любое количество *методов*, указывая в объявлении метода при каком наборе типов аргументов, или даже целых ветвей, он будет вызываться.\n",
    "Процесс выбора метода при вызове функции называется *диспетчеризацией*.\n",
    "Диспетчеризация учитывает типы *всех позиционных аргументов*, поэтому она называется *множественной*.\n",
    "При первом вызове функции или метода Julia, если возможно, создаёт для него эффективную (машинную) реализацию.\n",
    "\n",
    "Эти три инструмента: дерево типов, методы и диспетчеризация, являются ядром дизайна языка Julia, дающим гибкость в написании кода вообще и быстрого кода в частности.\n",
    "\n",
    "Подробнее о рассматриваемых здесь темах можно почитать в разделах [Types](https://docs.julialang.org/en/v1/manual/types/), [Methods](https://docs.julialang.org/en/v1/manual/methods/) и [wiki:Multiple dispatch](https://en.wikipedia.org/wiki/Multiple_dispatch#Languages_with_built-in_multiple_dispatch).\n"
   ]
  },
  {
   "cell_type": "markdown",
   "metadata": {},
   "source": [
    "### Система типов"
   ]
  },
  {
   "cell_type": "markdown",
   "metadata": {},
   "source": [
    "В Julia **сильная динамическая** система типов.\n",
    "\n",
    "Однако, стоит избегать и потенциально предугадывать места, в которых переменная меняет свой тип. Компилятор вас поощрит.\n",
    "\n",
    "Поскольку в Julia динамическая типизация, то переменная может менять свой тип в процессе работы программы."
   ]
  },
  {
   "cell_type": "code",
   "execution_count": 588,
   "metadata": {},
   "outputs": [
    {
     "name": "stdout",
     "output_type": "stream",
     "text": [
      "typeof(x) = Int64\n",
      "typeof(x) = Float64\n"
     ]
    },
    {
     "data": {
      "text/plain": [
       "Float64"
      ]
     },
     "metadata": {},
     "output_type": "display_data"
    }
   ],
   "source": [
    "x = 5\n",
    "@show typeof(x)\n",
    "x = 5.0\n",
    "@show typeof(x)"
   ]
  },
  {
   "cell_type": "markdown",
   "metadata": {},
   "source": [
    "В Julia нельзя указать, чтобы переменная имела постоянное значение, но можно указать, что переменная *не меняет свой тип*:"
   ]
  },
  {
   "cell_type": "code",
   "execution_count": 589,
   "metadata": {},
   "outputs": [
    {
     "name": "stderr",
     "output_type": "stream",
     "text": [
      "WARNING: redefinition of constant Main.y. This may fail, cause incorrect answers, or produce other errors.\n",
      "WARNING: redefinition of constant Main.y. This may fail, cause incorrect answers, or produce other errors.\n"
     ]
    }
   ],
   "source": [
    "const y = 10\n",
    "@debug y = 10.0 # ERROR: invalid redefinition of constant y\n",
    "y = 20;"
   ]
  },
  {
   "cell_type": "markdown",
   "metadata": {},
   "source": [
    "Julia не допустила присвоение `y = 10.0`, потому что оно меняет тип переменной `y::Int64`. Однако, присваивать значения `Int64` переменной `y` всё-таки можно, но не стоит этого делать."
   ]
  },
  {
   "cell_type": "markdown",
   "metadata": {},
   "source": [
    "### Декларация типов"
   ]
  },
  {
   "cell_type": "markdown",
   "metadata": {},
   "source": [
    "С помощью оператора `::` вы можете *декларировать* тип объекта. Обычно это делается для\n",
    "\n",
    "- переменных;\n",
    "- аргументов функции;\n",
    "- возвращаемого функцией значения;\n",
    "- полей композитных типов (структур).\n",
    "\n",
    "\n",
    "> `NOTE` Конвертацию делает функция `convert(T, x)`. Правила конвертации можно задавать.\n",
    "\n",
    "Например, вы можете декларировать тип переменной внутри функции (или другой локальной области видимости). В таком случае при присвоении значения происходит конвертация."
   ]
  },
  {
   "cell_type": "code",
   "execution_count": 590,
   "metadata": {},
   "outputs": [
    {
     "name": "stdout",
     "output_type": "stream",
     "text": [
      "typeof(foo(10)) = Int64\n",
      "typeof(bar(10)) = Int8\n"
     ]
    },
    {
     "data": {
      "text/plain": [
       "Int8"
      ]
     },
     "metadata": {},
     "output_type": "display_data"
    }
   ],
   "source": [
    "function foo(x::Int64)\n",
    "    return x\n",
    "end\n",
    "\n",
    "function bar(x)::Int8\n",
    "    return x\n",
    "end\n",
    "\n",
    "@show typeof(foo(10))\n",
    "@show typeof(bar(10))"
   ]
  },
  {
   "cell_type": "markdown",
   "metadata": {},
   "source": [
    "### Какие бывают типы"
   ]
  },
  {
   "cell_type": "markdown",
   "metadata": {},
   "source": [
    "Типы в Julia классифицируются по следующим признакам (указаны не все)\n",
    "\n",
    "- абстрактный *abstract* (`AbstractFloat`) и конкретный *concrete* (`Float64`);\n",
    "- примитивный *primitive* (`Float64`) и композитный *composite* (`Complex{Float64}`);\n",
    "- параметрический *parametric* (`Complex{Float64}`);\n",
    "- изменяемый (`Vector{Float64}`) и неизменяемый (`Tuple{Float64,Float64}`);\n",
    "- ...\n",
    "\n",
    "В Julia система типов организована в дерево, корень которого тип `Any`, т.е. любой.\n",
    "Листьями дерева типов являются **конкретные типы**.\n",
    "У значения такого типа известна структура в памяти.\n",
    "**Абстрактные** типы нужны в качестве промежуточных узлов дерева типов, выстраивая иерархию.\n",
    "\n",
    ">`NOTE` Кроме того, объявление неабстрактного параметрического типа `T1{T2}`  создаёт **UnionAll** тип `T1`. > Последний ведёт себя как супертип (родительский) для параметризованных потомков.\n",
    ">\n",
    ">Например, `Rational{T}` порождает UnionAll `Rational`, и `Rational` будет супертипом для всех `Rational{T}`: `Rational{Int64}`, `Rational{Int8}`...\n",
    ">\n",
    ">В дереве ниже `UnionAll` типы помещены в параллелограммы.\n",
    "\n",
    "Например, так выглядит часть дерева с числовыми и строчными типами, при этом\n",
    "\n",
    "- конкретные типы указаны в округлённых рамках;\n",
    "- абстрактные в прямоугольных.\n"
   ]
  },
  {
   "cell_type": "code",
   "execution_count": 591,
   "metadata": {},
   "outputs": [],
   "source": [
    "\"\"\"\n",
    "Any\n",
    "├─AbstractString \n",
    "│  ├─String\n",
    "│  └─SubString\n",
    "└─Number\n",
    "   ├─ Complex\n",
    "   └─ Real\n",
    "      ├─ AbstractFloat\n",
    "      │  └─ ...\n",
    "      ├─ Integer\n",
    "      │  ├─ Bool\n",
    "      │  ├─ Signed\n",
    "      │  │  ├─ Int8\n",
    "      │  │  ├─ Int16\n",
    "      │  │  ├─ Int32\n",
    "      │  │  ├─ Int64\n",
    "      │  │  ├─ Int128\n",
    "      │  │  └─ BigInt\n",
    "      │  └─ Unsigned\n",
    "      │     └─ ...\n",
    "      ├─ Rational\n",
    "      │  └─ ...\n",
    "      └─ AbstractIrrational\n",
    "         └─ Irrational\n",
    "\"\"\";"
   ]
  },
  {
   "cell_type": "markdown",
   "metadata": {},
   "source": [
    "Несколько функций для интроспекции системы типов\n",
    "\n",
    "- `subtypes(T)`: подтипы типа `T`;\n",
    "- `isabstracttype(T)`: является ли тип `T` абстрактным;\n",
    "- `isprimitivetype(T)`: является ли тип `T` примитивным;\n",
    "- `ismutable(x)`: является ли значение `x` изменяемым.\n",
    "\n",
    "```{margin}\n",
    "С точки зрения дерева, можно ли из `Ty` добраться до `Tx`.\n",
    "```\n",
    "Также с помощью subtype-оператора `Tx <: Ty` можно проверять \"является ли тип `Tx` подтипом типа `Ty`\"."
   ]
  },
  {
   "cell_type": "code",
   "execution_count": 592,
   "metadata": {},
   "outputs": [
    {
     "name": "stdout",
     "output_type": "stream",
     "text": [
      "Int64 <: Number = true\n"
     ]
    }
   ],
   "source": [
    "@show Int64 <: Number;"
   ]
  },
  {
   "cell_type": "markdown",
   "metadata": {},
   "source": [
    "### Композитные типы"
   ]
  },
  {
   "cell_type": "markdown",
   "metadata": {},
   "source": [
    "**Композитный** тип имеет более сложную структуру в памяти, чем примитивный тип.\n",
    "Этот тип является набором именованных полей, а экземпляром такого типа можно манипулирвовать как одним значением.\n",
    "В других языках им соответствуют объекты (*objects*) или структуры (*structs*).\n",
    "Примерами встроенных композитых типов являются `Complex{T}`, `Rational{T}`, `Tuple`, `String`, `Array`, `IO` etc...\n",
    "\n",
    "Ниже показан пример композитного типа для точки на плоскости.\n",
    "\n",
    "По умолчанию, структуры в Julia неизменяемые.\n",
    "Перезапись поля можно разрешить, сделав структуру изменяемой (`mutable`)."
   ]
  },
  {
   "cell_type": "code",
   "execution_count": 593,
   "metadata": {},
   "outputs": [
    {
     "name": "stdout",
     "output_type": "stream",
     "text": [
      "typeof(p1) = Point\n",
      "p1 = Point(1.0, 2)\n",
      "p1.x = 1.0\n",
      "mp1 = MPoint(1, 2)\n",
      "mp1 = MPoint(10, 2)\n"
     ]
    }
   ],
   "source": [
    "struct Point\n",
    "    x        # то же, что и x::Any, т.е. поле может быть либого типа\n",
    "    y::Int   # так указывается тип (можно и абстрактный)\n",
    "end\n",
    "\n",
    "p1 = Point(1.0, 2)\n",
    "@show typeof(p1)\n",
    "@show p1\n",
    "@show p1.x\n",
    "@debug p1.x = 9\n",
    "\n",
    "mutable struct MPoint\n",
    "    x\n",
    "    y\n",
    "end\n",
    "\n",
    "mp1 = MPoint(1, 2)\n",
    "@show mp1\n",
    "mp1.x = 10\n",
    "@show mp1;\n",
    "\n",
    "#Объявления абстрактного типа\n",
    "abstract type AbstractPoint <: Any end\n",
    "\n"
   ]
  },
  {
   "cell_type": "markdown",
   "metadata": {},
   "source": [
    "\n",
    "Иногда это может приводить к замедлению работы, поскольку `mutable struct` (или её часть) выделяется в куче, а не на стеке.\n",
    "\n",
    "Тем не менее, в поле обычной структуры можно хранить значение изменяемого типа.\n",
    "В таком случае поле хранит *ссылку на изменяемый объект*.\n",
    "Объект поменять можно, а ссылку &ndash; нет.\n",
    "Например, так хранятся массивы внутри структур.\n",
    "\n",
    "Конструктор (*constructor*) `Point(x, y)` для композитного типа можно поменять или создать несколько.\n",
    "Конструкторы бывают внутренние (*inner constructor*) и внешние (*outer constructor*).\n",
    "Внутренние конструкторы объявляются внутри объявления структуры, и в этом случае конструктор по умолчанию теряется.\n",
    "Внешние конструкторы, по сути, функции для удобного создания экземпляров структур.\n",
    "Обычно такие функции имеют то же имя, что и тип.\n",
    "Такое возможно благодаря механизму методов, о котором говорится далее."
   ]
  },
  {
   "cell_type": "markdown",
   "metadata": {},
   "source": [
    "### Параметрические композитные типы"
   ]
  },
  {
   "cell_type": "markdown",
   "metadata": {},
   "source": [
    "Параметрический тип это тип, который в своём объявлении содержит дополнительную информацию. Например, тип `Complex` в языке объявлен следующим образом:"
   ]
  },
  {
   "cell_type": "code",
   "execution_count": 594,
   "metadata": {},
   "outputs": [],
   "source": [
    "struct Complex{T<:Real} <: Number\n",
    "    re::T\n",
    "    im::T\n",
    "end"
   ]
  },
  {
   "cell_type": "markdown",
   "metadata": {},
   "source": [
    "С практической точки зрения, код выше объявляет структуру данных `Complex` для комплексных чисел, которые (сюрприз) являются числами (`Number`).\n",
    "Т.е., подразумевается, что с ними можно совершать все арифметические операции.\n",
    "Сама структура данных состоит из двух действительных (`Real`) чисел с *одинаковым* типом.\n",
    "\n",
    "Более строго, объявление выше значит\n",
    "\n",
    "```{margin}\n",
    "`Complex` в данном случае ни абстрактный, ни конкретный.\n",
    "```\n",
    "- создать UnionAll-тип `Complex`, который будет вести себя как супертип для `Complex{T}`;\n",
    "- создать параметрический тип `Complex{T}`,\n",
    "- где параметр `T` является подтипом типа `Real`,\n",
    "- при этом типы `Complex` и `Complex{T}` являются подтипами `Number`;\n",
    "- у `Complex{T}` два поля: `re` и `im`, каждое из них имеет тип `T`.\n",
    "\n",
    "```{margin}\n",
    "Это не значит, что массив в Julia может хранить только значения одного типа. Ведь есть абстрактные типы: `Any`, `Number`...\n",
    "```\n",
    "В качестве параметров могут быть типы и значения примитивных типов. Например, в Julia объявлен тип для массивов ` AbstractArray{T,N}`, где под `T` подразумевается тип значений, а под `N` размерность массива (1 для векторов, 2 для матриц...).\n",
    "\n",
    "Параметрические типы порождают целое семейство типов. Член такого семейства &ndash; *любая  комбинация разрешенных значений* параметров типа.\n",
    "\n",
    "Таким образом, с помощью параметризации композитного типа мы можем дать подсказки для компилятора, чтобы тот создавал оптимизированный код.\n"
   ]
  },
  {
   "cell_type": "markdown",
   "metadata": {},
   "source": [
    "### Union типы"
   ]
  },
  {
   "cell_type": "markdown",
   "metadata": {},
   "source": [
    "Тип можно рассматривать как набор возможных значений. Тип выражает *неопределенность* относительно того, какое значение мы имеем. Вы можете делать операции над ними. Типы Union, естественно, обобщают отсутствующие данные."
   ]
  },
  {
   "cell_type": "code",
   "execution_count": 595,
   "metadata": {},
   "outputs": [
    {
     "name": "stdout",
     "output_type": "stream",
     "text": [
      "p1 = IFPoint(1, 2.0)\n",
      "Union{Int, String} <: Union{Int, String, Float32} = true\n",
      "typeof(data) = Vector{Union{Missing, Float64}}\n"
     ]
    }
   ],
   "source": [
    "struct IFPoint \n",
    "    x::Union{Integer,AbstractFloat}\n",
    "    y::Union{Integer,AbstractFloat}\n",
    "end\n",
    "\n",
    "p1 = IFPoint(1, 2.0)\n",
    "@show p1\n",
    "\n",
    "@show Union{Int,String} <: Union{Int,String,Float32}\n",
    "\n",
    "data = [1.1, missing, 3.2, missing, 5.7, 0.4]\n",
    "@show typeof(data);"
   ]
  },
  {
   "cell_type": "markdown",
   "metadata": {},
   "source": [
    "`Array{T,1} where T<:Integer`\n",
    "\n",
    "означает «объединение всех типов вида Array {T, 1}, где T является подтипом Integer».\n",
    "\n",
    "Это выражает неопределенность в отношении значения параметра.\n",
    "\n",
    "Эта концепция существует во всех версиях Julia, но не имеет синтаксиса или полностью правильной поддержки в системе до следующего v0.6.0 (в настоящее время в ветке jb / subtype).\n",
    "\n",
    "* Поскольку этот тип вводит *переменные*, его выразительная сила (вероятно) эквивалентна количественным логическим формулам.\n",
    "* Требует  q-SAT решатель в компиляторе.\n",
    "* По общепринятым предположениям, сложнее, чем NP-полная."
   ]
  },
  {
   "cell_type": "code",
   "execution_count": 596,
   "metadata": {},
   "outputs": [
    {
     "data": {
      "text/plain": [
       "UInt8"
      ]
     },
     "metadata": {},
     "output_type": "display_data"
    }
   ],
   "source": [
    "# это определение в базовой библиотеке\n",
    "MyVector = Array{T,1} where T\n",
    "\n",
    "# Функция возвращает тип, принадлежащий Integer\n",
    "func(a::T) where {T<:Integer} = T\n",
    "func(0x00)"
   ]
  },
  {
   "cell_type": "markdown",
   "metadata": {},
   "source": [
    "## 4.3 Multiple dispatch"
   ]
  },
  {
   "cell_type": "markdown",
   "metadata": {},
   "source": [
    "В этом блокноте мы рассмотрим **множественную диспетчеризацию (мультиметоды)**, которая является ключевой особенностью Julia. Мультиметоды делают программное обеспечение *универсальным* и *быстрым*.\n",
    "\n",
    "Для каждой функции в Julia можно определить сколько угодно методов (*methods*). Это способ полиформизма в языке. Вы уже с ним сталкивались, например, `1 + 2` и `1.0 + 2.0` совершенно разные вызовы. В первом случае вызывается метод `+(x, y)` для  `Int64`, а во втором метод `+(x, y)` для сложения `Float64`.\n",
    "\n",
    "Вообще, у сложения `+` в базовой библиотеке Julia 1.6.2 190 методов.\n",
    "Здесь методы и для примитивных типов, для комплексных и рациональных чисел, для векторов, матриц, тензоров...\n",
    "\n",
    "Узнать, какой метод вызвался можно макросом `@which`\n"
   ]
  },
  {
   "cell_type": "code",
   "execution_count": 597,
   "metadata": {},
   "outputs": [
    {
     "name": "stdout",
     "output_type": "stream",
     "text": [
      "length(methods_of_plus) = 195\n",
      "methods_of_plus[k] = +(z::Base.Complex{Bool}, x::Bool) @ Base complex.jl:306\n",
      "methods_of_plus[k] = +(z::Base.Complex{Bool}, x::Real) @ Base complex.jl:320\n",
      "methods_of_plus[k] = +(z::Base.Complex, x::Bool) @ Base complex.jl:313\n",
      "methods_of_plus[k] = +(x::Bool, z::Base.Complex{Bool}) @ Base complex.jl:305\n",
      "methods_of_plus[k] = +(x::Bool, y::Bool) @ Base bool.jl:166\n",
      "method_1 = +(x::T, y::T) where T<:Union{Int128, Int16, Int32, Int64, Int8, UInt128, UInt16, UInt32, UInt64, UInt8} @ Base int.jl:87\n",
      "method_2 = +(x::T, y::T) where T<:Union{Float16, Float32, Float64} @ Base float.jl:409\n"
     ]
    }
   ],
   "source": [
    "methods_of_plus = methods(+)\n",
    "@show length(methods_of_plus)\n",
    "for k=1:5\n",
    "    @show methods_of_plus[k]\n",
    "end\n",
    "\n",
    "method_1 = @which 1 + 2\n",
    "method_2 = @which 1.0 + 2.0\n",
    "\n",
    "@show method_1\n",
    "@show method_2;"
   ]
  },
  {
   "cell_type": "markdown",
   "metadata": {},
   "source": [
    "Можно сказать, что функция определяет дефолтное действие с аргументами. А методы функции содержат частные реализации этих действий на случаи тех или иных аргументов. Например, метод `sum` для вектора сложит все элементы и это займёт линейное время, а `sum` для арифметической прогрессии займёт константное время, используя формулу. При этом с точки зрения пользователя сигнатура вызова одна и та же: `sum(A)`.\n",
    "\n",
    "Процесс выбора нужного метода называется **диспетчеризацией** (*dispatch*). В Julia диспетчеризация производится **по типам *всех* позиционных аргументов функции**. Этот механизм называется *multiple dispatch*. Он гибче и продуктивнее, нежели диспетчеризация по одному типу, например, как в Python (`type(x).__add__(x, y)`). При этом, в отличие от языков со статической типизацией, нет необходимости указывать типы аргументов.\n",
    "\n",
    "Строго говоря, *generic function* единственна, а методов у неё много. Однако, всё же принято называть методы функциями, если контекст позволяет. Методы создаются как функции, но с указанием типа хотя бы одного аргумента. \n",
    "\n",
    "При диспетчеризации может возникать коллизия: два или более метода подходят для вызова.\n",
    "В этом случае Julia выдаст ошибку `MethodError`.\n"
   ]
  },
  {
   "cell_type": "code",
   "execution_count": 598,
   "metadata": {},
   "outputs": [
    {
     "name": "stdout",
     "output_type": "stream",
     "text": [
      "g(\u001b[90mx\u001b[39m::\u001b[1mFloat64\u001b[22m, \u001b[90my\u001b[39m::\u001b[1mFloat64\u001b[22m)\u001b[90m @\u001b[39m \u001b[90mMain\u001b[39m \u001b[90m~/Рабочий стол/Кодирование/Julia/handbook-julia/\u001b[39m\u001b[90m\u001b[4m5.functions.ipynb:2\u001b[24m\u001b[39m\n",
      "g(\u001b[90mx\u001b[39m::\u001b[1mReal\u001b[22m)\u001b[90m @\u001b[39m \u001b[90mMain\u001b[39m \u001b[90m~/Рабочий стол/Кодирование/Julia/handbook-julia/\u001b[39m\u001b[90m\u001b[4m5.functions.ipynb:1\u001b[24m\u001b[39m\n",
      "g(\u001b[90mx\u001b[39m::\u001b[1mComplex\u001b[22m, \u001b[90my\u001b[39m::\u001b[1mComplex\u001b[22m)\u001b[90m @\u001b[39m \u001b[90mMain\u001b[39m \u001b[90m~/Рабочий стол/Кодирование/Julia/handbook-julia/\u001b[39m\u001b[90m\u001b[4m5.functions.ipynb:3\u001b[24m\u001b[39m\n",
      "g(\u001b[90mx\u001b[39m, \u001b[90my\u001b[39m)\u001b[90m @\u001b[39m \u001b[90mMain\u001b[39m \u001b[90m~/Рабочий стол/Кодирование/Julia/handbook-julia/\u001b[39m\u001b[90m\u001b[4m5.functions.ipynb:1\u001b[24m\u001b[39m\n"
     ]
    }
   ],
   "source": [
    "g(x, y) = 2x + y\n",
    "g(x::Float64, y::Float64) = 3x + y\n",
    "g(x::Complex, y::Complex) = 5x + y*im\n",
    "\n",
    "for m in methods(g)\n",
    "    println(m)\n",
    "end"
   ]
  },
  {
   "cell_type": "markdown",
   "metadata": {},
   "source": [
    "### Такая разная диспетчеризация"
   ]
  },
  {
   "cell_type": "markdown",
   "metadata": {},
   "source": [
    "Базовая диспетчеризация"
   ]
  },
  {
   "cell_type": "code",
   "execution_count": 599,
   "metadata": {},
   "outputs": [
    {
     "name": "stdout",
     "output_type": "stream",
     "text": [
      "# 5 methods for generic function \"fee\" from \u001b[35mMain\u001b[39m:\n",
      " [1] fee(\u001b[90ma\u001b[39m::\u001b[1mInteger\u001b[22m, \u001b[90mb\u001b[39m::\u001b[1mInteger\u001b[22m)\n",
      "\u001b[90m     @\u001b[39m \u001b[90m~/Рабочий стол/Кодирование/Julia/handbook-julia/\u001b[39m\u001b[90m\u001b[4m5.functions.ipynb:5\u001b[24m\u001b[39m\n",
      " [2] fee(\u001b[90ma\u001b[39m::\u001b[1mNumber\u001b[22m, \u001b[90mb\u001b[39m::\u001b[1mNumber\u001b[22m)\n",
      "\u001b[90m     @\u001b[39m \u001b[90m~/Рабочий стол/Кодирование/Julia/handbook-julia/\u001b[39m\u001b[90m\u001b[4m5.functions.ipynb:2\u001b[24m\u001b[39m\n",
      " [3] fee(\u001b[90ma\u001b[39m::\u001b[1mNumber\u001b[22m, \u001b[90mb\u001b[39m)\n",
      "\u001b[90m     @\u001b[39m \u001b[90m~/Рабочий стол/Кодирование/Julia/handbook-julia/\u001b[39m\u001b[90m\u001b[4m5.functions.ipynb:3\u001b[24m\u001b[39m\n",
      " [4] fee(\u001b[90ma\u001b[39m, \u001b[90mb\u001b[39m::\u001b[1mNumber\u001b[22m)\n",
      "\u001b[90m     @\u001b[39m \u001b[90m~/Рабочий стол/Кодирование/Julia/handbook-julia/\u001b[39m\u001b[90m\u001b[4m5.functions.ipynb:4\u001b[24m\u001b[39m\n",
      " [5] fee(\u001b[90ma\u001b[39m, \u001b[90mb\u001b[39m)\n",
      "\u001b[90m     @\u001b[39m \u001b[90m~/Рабочий стол/Кодирование/Julia/handbook-julia/\u001b[39m\u001b[90m\u001b[4m5.functions.ipynb:1\u001b[24m\u001b[39m\n",
      "fee(1.5, 2) = \"a and b are both numbers\"\n",
      "fee(1, \"bar\") = \"a is a number\"\n",
      "fee(1, 2) = \"a and b are both integers\"\n",
      "fee(\"foo\", [1, 2]) = \"fallback\"\n"
     ]
    }
   ],
   "source": [
    "fee(a, b) = \"fallback\"\n",
    "fee(a::Number, b::Number) = \"a and b are both numbers\"\n",
    "fee(a::Number, b) = \"a is a number\"\n",
    "fee(a, b::Number) = \"b is a number\"\n",
    "fee(a::Integer, b::Integer) = \"a and b are both integers\"\n",
    "println(methods(fee))\n",
    "@show fee(1.5, 2)\n",
    "@show fee(1, \"bar\")\n",
    "@show fee(1, 2)\n",
    "@show fee(\"foo\", [1,2]);"
   ]
  },
  {
   "cell_type": "markdown",
   "metadata": {},
   "source": [
    "\"Диагональная\" диспетчеризация"
   ]
  },
  {
   "cell_type": "code",
   "execution_count": 600,
   "metadata": {},
   "outputs": [
    {
     "name": "stdout",
     "output_type": "stream",
     "text": [
      "# 2 methods for generic function \"d\" from \u001b[35mMain\u001b[39m:\n",
      " [1] d(\u001b[90ma\u001b[39m::\u001b[1mT\u001b[22m, \u001b[90mb\u001b[39m::\u001b[1mT\u001b[22m) where T<:Integer\n",
      "\u001b[90m     @\u001b[39m \u001b[90m~/Рабочий стол/Кодирование/Julia/handbook-julia/\u001b[39m\u001b[90m\u001b[4m5.functions.ipynb:2\u001b[24m\u001b[39m\n",
      " [2] d(\u001b[90ma\u001b[39m::\u001b[1mT\u001b[22m, \u001b[90mb\u001b[39m::\u001b[1mT\u001b[22m) where T<:Number\n",
      "\u001b[90m     @\u001b[39m \u001b[90m~/Рабочий стол/Кодирование/Julia/handbook-julia/\u001b[39m\u001b[90m\u001b[4m5.functions.ipynb:1\u001b[24m\u001b[39m\n",
      "d(big(1.5), big(2.5)) = \"a and b are both BigFloats\"\n",
      "d(big(1), big(2)) = \"both are BigInt integers\"\n"
     ]
    }
   ],
   "source": [
    "d(a::T, b::T) where {T<:Number} = \"a and b are both $(T)s\"\n",
    "d(a::T, b::T) where {T<:Integer} = \"both are $T integers\"\n",
    "println(methods(d))\n",
    "@show d(big(1.5), big(2.5))\n",
    "@show d(big(1), big(2)); "
   ]
  },
  {
   "cell_type": "markdown",
   "metadata": {},
   "source": [
    "Методы с неполным списком аргументов"
   ]
  },
  {
   "cell_type": "code",
   "execution_count": 601,
   "metadata": {},
   "outputs": [
    {
     "name": "stdout",
     "output_type": "stream",
     "text": [
      "φ(1) = \"1-ary homogeneous call\"\n",
      "φ(1, 2, 3) = \"3-ary homogeneous call\"\n",
      "φ(1, 1.5, 2) = \"3-ary heterogeneous call\"\n",
      "φ() = \"0-ary homogeneous call\"\n",
      "φ(1, 2) = \"2-ary homogeneous call\"\n",
      "φ([1, 2, 3]...) = \"3-ary homogeneous call\"\n"
     ]
    }
   ],
   "source": [
    "φ(args::Number...) = \"$(length(args))-ary heterogeneous call\"\n",
    "φ(args::T...) where {T<:Number} = \"$(length(args))-ary homogeneous call\"\n",
    "@show φ(1)\n",
    "@show φ(1, 2, 3)\n",
    "@show φ(1, 1.5, 2)\n",
    "@show φ()\n",
    "@show φ(1, 2)\n",
    "@show φ([1, 2, 3]...);"
   ]
  },
  {
   "cell_type": "markdown",
   "metadata": {},
   "source": [
    "Необязательные аргументы"
   ]
  },
  {
   "cell_type": "code",
   "execution_count": 602,
   "metadata": {},
   "outputs": [
    {
     "name": "stdout",
     "output_type": "stream",
     "text": [
      "# 2 methods for generic function \"χ\" from \u001b[35mMain\u001b[39m:\n",
      " [1] χ(\u001b[90mx\u001b[39m)\n",
      "\u001b[90m     @\u001b[39m \u001b[90m~/Рабочий стол/Кодирование/Julia/handbook-julia/\u001b[39m\u001b[90m\u001b[4m5.functions.ipynb:1\u001b[24m\u001b[39m\n",
      " [2] χ(\u001b[90mx\u001b[39m, \u001b[90my\u001b[39m)\n",
      "\u001b[90m     @\u001b[39m \u001b[90m~/Рабочий стол/Кодирование/Julia/handbook-julia/\u001b[39m\u001b[90m\u001b[4m5.functions.ipynb:1\u001b[24m\u001b[39m\n"
     ]
    }
   ],
   "source": [
    "χ(x, y = 0) = 2x + 3y\n",
    "println(methods(χ))"
   ]
  },
  {
   "cell_type": "markdown",
   "metadata": {},
   "source": [
    "### Ключевые слова"
   ]
  },
  {
   "cell_type": "markdown",
   "metadata": {},
   "source": [
    "Аргументы перечисляемые после точки с запятой в прототипе функции являются ключевыми словами, к которым можно непосредственно обращаться при вызове функции"
   ]
  },
  {
   "cell_type": "code",
   "execution_count": 603,
   "metadata": {},
   "outputs": [
    {
     "name": "stdout",
     "output_type": "stream",
     "text": [
      "k(2) = 2\n",
      "k(2, 3) = 8\n",
      "k(2, opt = true) = 4\n",
      "k(2, 3, opt = true) = 7\n"
     ]
    }
   ],
   "source": [
    "k(x, y = 0; opt::Bool = false) = opt ? 2x+y : x+2y\n",
    "@show k(2)\n",
    "@show k(2, 3)\n",
    "@show k(2, opt=true)\n",
    "@show k(2, 3, opt=true);\n"
   ]
  },
  {
   "cell_type": "markdown",
   "metadata": {},
   "source": [
    "Суммируя наши знания, можем написать функцию, которая парсит неопределенное количество необязательных аргументов. "
   ]
  },
  {
   "cell_type": "code",
   "execution_count": 604,
   "metadata": {},
   "outputs": [
    {
     "name": "stdout",
     "output_type": "stream",
     "text": [
      "a = 1\n",
      "b = 2\n"
     ]
    }
   ],
   "source": [
    "a, b = 3, 4\n",
    "function allkw(; kw...)\n",
    "    for (k, v) in kw\n",
    "        println(\"$k = $v\")\n",
    "    end\n",
    "end\n",
    "allkw(a=1,b=2);"
   ]
  },
  {
   "cell_type": "markdown",
   "metadata": {},
   "source": [
    "### Стабильность по типу"
   ]
  },
  {
   "cell_type": "markdown",
   "metadata": {},
   "source": [
    "Когда Julia исполняет функцию (или метод) в первый раз, компилятор \"на лету\" создаёт машинный код и запоминает его для последующих вызовов уже без компиляции.\n",
    "Получившийся код лишь может быть по-настоящему машинно-эффективным (как в компилирующихся языках, например, в C/C++ или Fortran).\n",
    "Например, если в вашей функции содержится переменная, тип которой можно узнать _только при исполнении_ (runtime), то эффективной реализации исходного кода, касающегося работы с этой переменной, не получится.\n",
    "В этом случае какую-либо операцию с такой переменной необходимо проверять: существует ли она и, если существует, то где определена.\n",
    "С другой стороны, если по типам аргументов _при вызове_ функции компилятору понятно, какие типы у всех остальных переменных, включая возвращаемое значение, то созданный машинный код будет эффективным.\n",
    "\n",
    "В итоге, программы на Julia могут быть быстрыми, как в компилируемых языках, но могут быть и медленными, как в интерпретируемых языках.\n",
    "Чтобы писать быстродействующие программы, стоит разбивать исходный код на небольшие функции, а в каждой из них поддерживать _стабильность типов_.\n",
    "\n",
    ">`DEFINITION` Стабильная по типу функция\n",
    ">\n",
    ">Функция, тип возвращаемого значения которой зависит только от типов аргументов, и не зависит от их значений, называют стабильной по типу (type stable function)."
   ]
  },
  {
   "cell_type": "markdown",
   "metadata": {},
   "source": [
    "Рассмотрим для примера функцию `f(x, y) = x^2 + y^2`.\n",
    "\n",
    "При первом вызове от двух `Int` (например, `f(3, 4)`) компилятор удачно выводит типы всех значений внутри функции: `x^2 == 9` и `y^2 == 16` это два `Int`, а их сумма `25` (возвращаемое значение) также `Int`.\n",
    "Более того, при любых вызовах вида `f(::Int, ::Int)` промежуточные значения и возвращаемое значение будут типа `Int`.\n",
    "Поэтому можно создать машинную реализацию для вызова `f(::Int, ::Int)` и использовать её в дальнейшем.\n",
    "Аналогично компилятор поступит для вызовов вида `f(::Float64, ::Int)`, `f(::Int, ::Float64)` и `f(::Float64, ::Float64)`.\n",
    "\n",
    "В нашем примере стабильные по типу функции это `^(x, y)`, `+(x, y)` и сама `f`.\n",
    "При этом стабильность по типу функции `f` в нашем случае обеспечивается стабильностью функций `+` и `^`.\n",
    "Для таких функций компилятору известно устройство в памяти входных и выходных значений, что позволяет создавать эффективный код.\n",
    "\n",
    "Покажем также пример нестабильной по типу функции:\n"
   ]
  },
  {
   "cell_type": "code",
   "execution_count": 605,
   "metadata": {},
   "outputs": [
    {
     "data": {
      "text/plain": [
       "h (generic function with 3 methods)"
      ]
     },
     "metadata": {},
     "output_type": "display_data"
    }
   ],
   "source": [
    "h(x::Real) = x > 0 ? x : 0"
   ]
  },
  {
   "cell_type": "markdown",
   "metadata": {},
   "source": [
    "В этом случае при вызове `g(::Int)` функция стабильна по типу, поскольку для любых `x::Int` возвращется `Int`.\n",
    "Однако, вызов вида `g(::Float64)` не стабилен по типу, поскольку для положительных `x::Float64` возвращается число типа `Float64`, а для отрицательных --- число типа `Int`.\n",
    "Добиться стабильности для вызова `g(::Float64)` можно было бы добавлением метода `g(x::Float64) = x > 0 ? x : 0.0`, но тогда подобные методы требовались бы для всех типов действительных чисел `T <: Real`.\n",
    "Лучшим вариантом является использование функции-утилиты `zero(x)`: она возращает ноль того же типа, что и `x`."
   ]
  },
  {
   "cell_type": "code",
   "execution_count": 606,
   "metadata": {},
   "outputs": [
    {
     "data": {
      "text/plain": [
       "h1 (generic function with 1 method)"
      ]
     },
     "metadata": {},
     "output_type": "display_data"
    }
   ],
   "source": [
    "h1(x::Real) = x > 0 : x : zero(x)"
   ]
  },
  {
   "cell_type": "markdown",
   "metadata": {},
   "source": [
    "Также рекомендуется заменить `x > 0` на `x > zero(x)`, но компилятор, вероятно, сгенерирует идентичный машинный код (проверьте с помощью `@code_native`).\n",
    "\n",
    "Показательным примером дизайна стабильной по типу функции в Julia является дизайн функции квадратного корня `sqrt(x)`.\n",
    "Если извлекать квадратный корень из натуральных чисел, то только для некоторых из них (полных квадратов) получим натуральное число, а в остальных случаях получим не целые числа.\n",
    "Разработчики Julia учли эту особенность, и, ради сохранения стабильности, вызов `sqrt(::Int)` всегда возвращает `Float64`, даже для полных квадратов.\n",
    "Кроме того, если извлекать корень из отрицательного числа, то получим число комплексное.\n",
    "Поэтому `sqrt(x::Real)` требует неотрицательного числа, чтобы независимо от значения `x` возвращать `Float64`.\n",
    "А для извлечения корней из отрицательных чисел требуется использовать метод вида `sqrt(x::Complex)` (например, `sqrt(-1 + 0im)` вместо `sqrt(-1)`).\n",
    "В последнем случае всегда возвращается `Complex` число, что сохраняет стабильность по типу функции `sqrt`.\n",
    "\n",
    "Для создания стабильных по типу функций Julia предоставляет множество инструментов.\n",
    "Например,\n",
    "- `zero(x)` и `one(x)` для создания нуля и единицы того же типа, что и `x`,\n",
    "- `similar(x)` для создания массива того же типа и размера, что и `x`,\n",
    "- `iszero(x)` и `isone(x)` вместо `x == 0` и `x == 1`,\n",
    "- `isodd(x)` и `iseven(x)` вместо `x % 2 == 1` и `x % 2 == 0`,\n",
    "- `isnan(x)` и `isinf(x)` для проверки на Not-a-Number и бесконечность.\n",
    "\n",
    "Часто используется функция `promote(x...)`, которая подбирает \"общий\" тип для своих аргументов и приводит их к нему. А для проверки своего кода на стабильность по типу можно использовать макрос `@code_warntype`.\n"
   ]
  },
  {
   "cell_type": "code",
   "execution_count": 3,
   "metadata": {},
   "outputs": [
    {
     "data": {
      "text/plain": [
       "(1.0, 2.0, 0.75)"
      ]
     },
     "metadata": {},
     "output_type": "display_data"
    }
   ],
   "source": [
    "promote(1, 2.0, 3//4)"
   ]
  },
  {
   "cell_type": "markdown",
   "metadata": {},
   "source": [
    "### Интерфейсы"
   ]
  },
  {
   "cell_type": "markdown",
   "metadata": {},
   "source": [
    "На методах основаны интерфейсы в языке.\n",
    "Например, для типа точки на декартовой плоскости, рассмотренном выше, вы можете определить оператор сложения.\n",
    "Вы также можете создать вектора из точек.\n",
    "Сложение таких векторов определять уже не нужно: операция сложения для векторов происходит поэлементно и определено в стандартной библиотеке.\n",
    "Поэтому, определив арифметические операции для точки, вам автоматически доступны методы линейной алгебры (`LinearAlgebra`) и, например, статистики (`Statistics`).\n",
    "\n",
    "Вы можете создавать собственные структуры данных, у которых будет поведение коллекций.\n",
    "Как только вы объявите необходимые методы интерфейса для своего типа, вы сможете пользоваться всеми функциями, определенными для коллекций.\n",
    "Или, скажем, вы можете встроить свои структуры данных в интерфейс цикла `for`.\n",
    "\n",
    "С помощью методов также создаются типы, ведущие себя как функции: их можно вызывать (*callable*).\n",
    "На этом основаны замыкания (*closures*) в Julia.\n",
    "\n",
    "Один из ярких примеров это задание типа полиномиальной функции, рассмотренного ниже:"
   ]
  },
  {
   "cell_type": "code",
   "execution_count": 613,
   "metadata": {},
   "outputs": [
    {
     "name": "stdout",
     "output_type": "stream",
     "text": [
      "p = 100x^2 + 10x^1 + 1\n",
      "ndims(p) = 2\n",
      "p(3) = 931\n",
      "(2p1 - p2) + 3 = 2x^2 - 1x^1 + 4\n",
      "p2 ^ 5 = x^5 - 5x^4 + 10x^3 - 10x^2 + 5x^1 - 1\n"
     ]
    }
   ],
   "source": [
    "# Создание структуры коэффициентов полинома\n",
    "struct Polynomial{R}\n",
    "    coeffs::Vector{R}\n",
    "end\n",
    "\n",
    "# Объявление \"вызова\" для типа Polynomial\n",
    "function (p::Polynomial)(x)\n",
    "    v = p.coeffs[end]\n",
    "    for i = (length(p.coeffs)-1):-1:1\n",
    "        v = v*x + p.coeffs[i]\n",
    "    end\n",
    "    return v\n",
    "end\n",
    "\n",
    "sign(x) = (x ≥ 0) ? \"+\" : \"-\"\n",
    "\n",
    "# Функция для отображения Polynomial в командной строке\n",
    "Base.show(io::IO, p::Polynomial) = begin\n",
    "    v = p.coeffs[end]\n",
    "    for i = (length(p.coeffs)):-1:1\n",
    "        if p.coeffs[i]==0 \n",
    "            continue \n",
    "        else\n",
    "            if i==1 \n",
    "                print(io, \" $(sign(p.coeffs[i])) $(abs(p.coeffs[i]))\") \n",
    "            else \n",
    "                if i!=length(p.coeffs)\n",
    "                    print(io, \" $(sign(p.coeffs[i])) \")\n",
    "                end\n",
    "                if p.coeffs[i]==1\n",
    "                    print(io, \"x^$(i-1)\") \n",
    "                else\n",
    "                    print(io, \"$(abs(p.coeffs[i]))x^$(i-1)\") \n",
    "                end\n",
    "            end \n",
    "        end\n",
    "    end\n",
    "end\n",
    "\n",
    "Base.ndims(p::Polynomial) = length(p.coeffs) - 1\n",
    "\n",
    "# Задание случая отсутствия аргументов функции\n",
    "(p::Polynomial)() = p(0)\n",
    "\n",
    "# Функции для коэффициентов суммы полиномов\n",
    "function psum(a,b)\n",
    "    z = (length(a)>length(b)) ? copy(a) : copy(b)\n",
    "    for k=1:min(length(a), length(b))\n",
    "        z[k] = a[k] + b[k]\n",
    "    end\n",
    "    return z\n",
    "end\n",
    "\n",
    "# Функции для коэффициентов произведения полиномов\n",
    "function pmul(a, b)\n",
    "    len = length(a)+length(b)-1\n",
    "    a1 = psum(a, zeros(Int64, len))\n",
    "    b1 = psum(b, zeros(Int64, len))\n",
    "    z = zeros(Int64, len)\n",
    "    for k=1:len\n",
    "        for i=1:k\n",
    "            z[k] += a1[i]*b1[k-i+1]\n",
    "        end\n",
    "    end\n",
    "    return z \n",
    "end\n",
    "\n",
    "# Объявление сложения, умножения и возведения в степень полиномов\n",
    "import Base: *, +, ^\n",
    "+(f::Polynomial, g::Polynomial) = Polynomial(psum(f.coeffs, g.coeffs)) # Cложение\n",
    "+(α::Number, g::Polynomial) = Polynomial(psum([α], g.coeffs)) # Cложение\n",
    "*(f::Polynomial, g::Polynomial) = Polynomial(pmul(f.coeffs, g.coeffs)) # Умножение\n",
    "*(α::Number, g::Polynomial) = Polynomial(α.*g.coeffs) # Умножение\n",
    "^(f::Function, n::Integer) = n == 1 ? f : f*f^(n-1)\n",
    "\n",
    "# Объявление полиномиальной функции\n",
    "p = Polynomial([1,10,100])\n",
    "x = Polynomial([0,1])\n",
    "@show p\n",
    "@show ndims(p)\n",
    "@show p(3)\n",
    "p1 = x^2\n",
    "p2 = x - 1\n",
    "@show 2*p1 - p2 + 3\n",
    "@show p2^5;\n",
    "\n",
    "# Экспонента через ряд Тейлора\n",
    "pow(n) = Polynomial([ i!=(n+1) ? 0 : 1 for i=1:(n+1)])\n",
    "myexp = sum(1//factorial(big(n)) * pow(n) for n in 0:100);  \n",
    "[myexp(1); exp(big(1))];"
   ]
  }
 ],
 "metadata": {
  "kernelspec": {
   "display_name": "Julia 1.10.3",
   "language": "julia",
   "name": "julia-1.10"
  },
  "language_info": {
   "file_extension": ".jl",
   "mimetype": "application/julia",
   "name": "julia",
   "version": "1.10.3"
  }
 },
 "nbformat": 4,
 "nbformat_minor": 2
}
