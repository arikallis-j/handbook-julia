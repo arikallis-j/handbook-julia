{
 "cells": [
  {
   "cell_type": "markdown",
   "metadata": {},
   "source": [
    "# 3. Основы синтасксиса: Массивы\n"
   ]
  },
  {
   "cell_type": "markdown",
   "metadata": {},
   "source": [
    "## 3.1. Array"
   ]
  },
  {
   "cell_type": "markdown",
   "metadata": {},
   "source": [
    "В Julia для массивов существует абстрактный тип `AbstractArray{T,N}`, где `T` тип элемента массива (`Int64`, `String`, `Complex{Int64}`, `Number`, `Any`...), а `N` размерность. При написании собственных типов с поведением массива в объявлении следует указать, что ваш тип является подтипом `AbstractArray`.\n",
    "\n",
    "Встроенным типом для массивом является `Array{T,N}`. Это изменяемый массив динамического размера с *column-major* хранением элементов.\n",
    "\n",
    "Синтаксис: <br>\n",
    "```julia\n",
    "[item1, item2, ...]\n",
    "```\n",
    "\n",
    ">`NOTE` Поскольку в Julia массивы хранятся постолбично, то для быстродействия вложенный цикл должен проходится по строке, а внешний по столбцу. Вообще, если есть массив `A[i, j, k]`, то цикл должен выглядить так:\n",
    ">\n",
    ">```julia\n",
    ">for k in eachindex(A, 3)\n",
    ">    for j in eachindex(A, 2)\n",
    ">        for i in eachindex(A, 1)\n",
    ">            ...\n",
    ">        end\n",
    ">    end\n",
    ">end\n",
    ">```\n",
    "\n",
    "Существуют два часто используемых синонима\n",
    "\n",
    "- `Vector{T} == Array{T,1}` для одномерных вектор-столбцов;\n",
    "- `Matrix{T} == Array{T,2}` для матриц и вектор-строк.\n",
    "\n",
    "Литералом `Array{T,N}` являются квадратные скобки `[]`, при этом можно явно указать тип `T[]` (`Int[1, 2]`, `Float64[1, 2]`).\n",
    "Если тип элементов массива не указывать, то Julia его вычислит.\n",
    "\n",
    "Для создания массива через литерал используется вертикальная и горизонтальная *конкатенация*.\n",
    "\n",
    "- Для **вертикальной конкатенации** используется `;` или новая строка.\n",
    " \n",
    "- Для **горизонтальной конкатенации** используется пробел ` ` или табуляция. \n",
    "\n",
    "Запятая `,` означает отсутствие конкатенации. Если конкатенация не нужна, используйтся запятая `,`. В примере ниже показано создание вектора векторов."
   ]
  },
  {
   "cell_type": "code",
   "execution_count": 62,
   "metadata": {},
   "outputs": [
    {
     "name": "stdout",
     "output_type": "stream",
     "text": [
      "a = [1, 2, 3] = [1, 2, 3]\n",
      "typeof(a) = Vector{Int64}\n",
      "b = [[1, 2, 3]; [7, 8]] = [1, 2, 3, 7, 8]\n",
      "typeof(b) = Vector{Int64}\n",
      "a2 = [1 2 3 4] = [1 2 3 4]\n",
      "typeof(a2) = Matrix{Int64}\n",
      "b2 = [[1, 2] [3, 4]] = [1 3; 2 4]\n",
      "typeof(b2) = Matrix{Int64}\n",
      "b3 = [[1, 2, 3], [7, 8]] = [[1, 2, 3], [7, 8]]\n",
      "typeof(b3) = Vector{Vector{Int64}}\n"
     ]
    }
   ],
   "source": [
    "@show a = [1, 2, 3] typeof(a) # Вектор из скаляров\n",
    "@show b = [[1, 2, 3]; [7, 8]] typeof(b) # Вертикальная конкатенация\n",
    "\n",
    "@show a2 = [1 2 3 4] typeof(a2) # Вектор-строка\n",
    "@show b2 = [[1, 2] [3, 4]] typeof(b2)# Горизонтальная конкатенация\n",
    "\n",
    "@show b3 = [[1, 2, 3], [7, 8]] typeof(b3); # Не конкатенация\n",
    "\n"
   ]
  },
  {
   "cell_type": "markdown",
   "metadata": {},
   "source": [
    "На первый взгляд синтаксис может показаться запутанным.\n",
    "Однако, с ним легко создавать блочные матрицы и тензоры.\n",
    "\n",
    "Скажем, задана блочная матрица\n",
    "\n",
    "$\n",
    "\\mathcal{M} = \\left[\\begin{array}{ccc|ccc}\n",
    "1 & 2 & 3 & 1 & 0 & 0 \\\\\n",
    "4 & 5 & 6 & 0 & 1 & 0 \\\\\n",
    "7 & 8 & 9 & 0 & 0 & 1 \\\\ \\hline\n",
    "0 & 0 & 0 & 10 & 11 & 12 \\\\\n",
    "\\end{array}\\right]\n",
    "= \\left[\\begin{array}{c|c}\n",
    "A & I \\\\ \\hline\n",
    "0^\\top & b^\\top\n",
    "\\end{array}\\right]\n",
    "$\n",
    "\n",
    "Соответствующий код будет:\n"
   ]
  },
  {
   "cell_type": "code",
   "execution_count": 23,
   "metadata": {},
   "outputs": [
    {
     "data": {
      "text/plain": [
       "4×6 Matrix{Int64}:\n",
       " 1  2  3   1   0   0\n",
       " 4  5  6   0   1   0\n",
       " 7  8  9   0   0   1\n",
       " 0  0  0  10  11  12"
      ]
     },
     "metadata": {},
     "output_type": "display_data"
    }
   ],
   "source": [
    "A = [1 2 3; 4 5 6; 7 8 9]   # или reshape(collect(1:9), 3, 3)'\n",
    "I = [1 0 0; 0 1 0; 0 0 1]\n",
    "zero = [0, 0, 0]  # или zeros(Int, 3)\n",
    "b = [10, 11, 12]  # или collect(10:12)\n",
    "\n",
    "M = [A I; zero' b']"
   ]
  },
  {
   "cell_type": "markdown",
   "metadata": {},
   "source": [
    "Оператор `'` (одинарная кавычка) выполняет `транспонирование` (cм. раздел 5.2)."
   ]
  },
  {
   "cell_type": "markdown",
   "metadata": {},
   "source": [
    "**Индексация**\n",
    "\n",
    "В Julia встроено два вида индексов.\n",
    "При этом нужно помнить, что в Julia-массивах значения хранятся постолбично.\n",
    "\n",
    "Синтаксис первого `A[i]`, это линейный индекс `LinearIndex`.\n",
    "Он позволяет получить `i`-ый *по счёту в памяти* элемент массива.\n",
    "Например, для вектора `A[4]` это $A_4$, а для матрицы размера $2 \\times 3$ это $A_{2, 2}$.\n",
    "\n",
    "Синтаксис второго `A[i, j, k,..]`, это декартов индекс `CartesianIndex`. Данный индекс учитывает размерность массива. Например, для матрицы элемент `A[i, j]` это элемент $A_{i,j}$ ($i$-ая строка, $j$-ый столбец).\n",
    "\n",
    "Индексом может быть и коллекция элементов, что позволяет обращаться к целым строкам, столцам, их пересечению, или просто некоторому набору элементов. Часто для этого используется *range operator* `start:[step:]stop`."
   ]
  },
  {
   "cell_type": "code",
   "execution_count": 155,
   "metadata": {},
   "outputs": [
    {
     "name": "stdout",
     "output_type": "stream",
     "text": [
      "A = [1 2 3; 4 5 6; 7 8 9]\n",
      "A[8] = 6\n",
      "A[2, end] = 6\n",
      "A[2, :] = [4, 5, 6]\n",
      "A[:, 2] = [2, 5, 8]\n",
      "A[1:2, 2:3] = [2 3; 5 6]\n",
      "A[1:4:end] = [1, 5, 9]\n",
      "A[3:2:7] = [7, 5, 3]\n"
     ]
    }
   ],
   "source": [
    "A = [1 2 3; \n",
    "     4 5 6; \n",
    "     7 8 9]\n",
    "@show A\n",
    "@show A[8] # линейный индекс\n",
    "@show A[2, end] # декартов индекс\n",
    "@show A[2, :]  # A[строка 1, все столбцы]\n",
    "@show A[:, 2]  # A[все строки, столбец 2]\n",
    "@show A[1:2, 2:3] # \"Пересечение\" строк 1 и 2 со столбцами 2 и 3.\n",
    "@show A[1:4:end] # Главная диагональ\n",
    "@show A[3:2:7]; # Побочная диагональ"
   ]
  },
  {
   "cell_type": "markdown",
   "metadata": {},
   "source": [
    "### Вспомогательные функции"
   ]
  },
  {
   "cell_type": "code",
   "execution_count": 184,
   "metadata": {},
   "outputs": [
    {
     "name": "stdout",
     "output_type": "stream",
     "text": [
      "vector = [1, 2, 3] = [1, 2, 3]\n",
      "matrix = [1.0 2.0 4.0; 5.0 6.0 7.0] = [1.0 2.0 4.0; 5.0 6.0 7.0]\n",
      "length(matrix) = 6\n",
      "ndims(matrix) = 2\n",
      "size(matrix) = (2, 3)\n",
      "collect(0:2:10) = [0, 2, 4, 6, 8, 10]\n",
      "zeros(Float64, (3, 2)) = [0.0 0.0; 0.0 0.0; 0.0 0.0]\n",
      "ones(Float64, 3) = [1.0, 1.0, 1.0]\n",
      "copy(matrix) = [1.0 2.0 4.0; 5.0 6.0 7.0]\n",
      "similar(matrix) = [5.0e-324 1.5e-323 2.5e-323; 1.0e-323 2.0e-323 3.0e-323]\n",
      "rand(Float16, (3, 3)) = Float16[0.0669 0.995 0.6553; 0.5884 0.1807 0.7695; 0.6797 0.6406 0.355]\n",
      "fill(2.0, (2, 3)) = [2.0 2.0 2.0; 2.0 2.0 2.0]\n",
      "map(sqrt, vector) = [1.0, 1.4142135623730951, 1.7320508075688772]\n",
      "push!(vector, 100) = [1, 2, 3, 100]\n",
      "vector = [1, 2, 3, 100]\n",
      "pop!(vector) = 100\n",
      "vector = [1, 2, 3]\n",
      "cubed = [i ^ 3 for i = 1:10] = [1, 8, 27, 64, 125, 216, 343, 512, 729, 1000]\n"
     ]
    }
   ],
   "source": [
    "@show vector = [1, 2, 3]\n",
    "@show matrix = [1.0 2.0 4.0;\n",
    "                5.0 6.0 7.0]\n",
    "\n",
    "# Интроспекция массива\n",
    "@show length(matrix) # количество элементов\n",
    "@show ndims(matrix) # размерность\n",
    "@show size(matrix) # кортеж из размеров каждой размерности\n",
    "\n",
    "# Создание массивов\n",
    "@show collect(0:2:10) # создание массива из коллекции;\n",
    "@show zeros(Float64, (3,2)) # массив из нулей типа `Float64` размерности `(3,2)`\n",
    "@show ones(Float64, 3) # аналогично `zeros`, но массив из единиц;\n",
    "@show copy(matrix) # нерекурсивная копия массива\n",
    "@show similar(matrix) # неинициализированный массив того же типа и размера, что и `matrix`\n",
    "@show rand(Float16, (3,3)) # массив из равномерно-распределённых случайных чисел;\n",
    "@show fill(2.0, (2,3)) # массив размера `(2,3)` из `2.0`;\n",
    "@show map(sqrt, vector) # создание массива на основе применения функции `sin` к каждому элементу `vector`. \n",
    "\n",
    "# Другие операции\n",
    "@show push!(vector, 100) # добавление в конец элемента\n",
    "@show vector\n",
    "\n",
    "@show pop!(vector) # извлечение элемента с конца\n",
    "@show vector\n",
    "# массив с различными типами данных\n",
    "multi_types = [\n",
    "    1, 1.0, 1//3, π,\n",
    "    'a', \"doggo\", [7 8 9]\n",
    "]\n",
    "typeof(multi_types)\n",
    "\n",
    "# Заполнение массива через цикл\n",
    "@show cubed = [i^3 for i = 1:10];"
   ]
  },
  {
   "cell_type": "markdown",
   "metadata": {},
   "source": [
    "## 3.2. Tuple, Dict, Set"
   ]
  },
  {
   "cell_type": "markdown",
   "metadata": {},
   "source": [
    "### Tuple"
   ]
  },
  {
   "cell_type": "markdown",
   "metadata": {},
   "source": [
    "Мы можем создать кортеж, заключив упорядоченную коллекцию элементов в `( )`. Основное отличие от Array в том, что мы не можем изменять значения в кортежах\n",
    "\n",
    "Синтаксис: <br>\n",
    "```julia\n",
    "(item1, item2, ...)\n",
    "```"
   ]
  },
  {
   "cell_type": "code",
   "execution_count": 56,
   "metadata": {},
   "outputs": [
    {
     "name": "stdout",
     "output_type": "stream",
     "text": [
      "typeof(myfavoriteanimals) = Tuple{String, String, String}\n",
      "myfavoriteanimals[1] = \"penguins\"\n"
     ]
    }
   ],
   "source": [
    "myfavoriteanimals = (\"penguins\", \"cats\", \"sugargliders\")\n",
    "@show typeof(myfavoriteanimals)\n",
    "@show myfavoriteanimals[1]\n",
    "@debug myfavoriteanimals[1] = \"otters\""
   ]
  },
  {
   "cell_type": "markdown",
   "metadata": {},
   "source": [
    "Тип `NamedTuple` работает точно также как `Tuple` за исключением того, что каждый элемент дополнительно имеет имя. У них есть специальный синтаксис, использующий `=` внутри кортежа:\n",
    "\n",
    "```julia\n",
    "(name1 = item1, name2 = item2, ...)\n",
    "```"
   ]
  },
  {
   "cell_type": "code",
   "execution_count": 60,
   "metadata": {},
   "outputs": [
    {
     "name": "stdout",
     "output_type": "stream",
     "text": [
      "myfavoriteanimals[1] = \"penguins\"\n",
      "myfavoriteanimals.bird = \"penguins\"\n"
     ]
    }
   ],
   "source": [
    "myfavoriteanimals = (bird = \"penguins\", mammal = \"cats\", marsupial = \"sugargliders\")\n",
    "@show myfavoriteanimals[1]\n",
    "@show myfavoriteanimals.bird;"
   ]
  },
  {
   "cell_type": "markdown",
   "metadata": {},
   "source": [
    "### Dict"
   ]
  },
  {
   "cell_type": "markdown",
   "metadata": {},
   "source": [
    "Если у нас есть наборы данных, связанных друг с другом, мы можем сохранить эти данные в словаре. Мы можем создать словарь, используя функцию `Dict()`.\n",
    "\n",
    "Синтаксис:\n",
    "```julia\n",
    "Dict(key1 => value1, key2 => value2, ...)\n",
    "```"
   ]
  },
  {
   "cell_type": "code",
   "execution_count": 1,
   "metadata": {},
   "outputs": [
    {
     "name": "stdout",
     "output_type": "stream",
     "text": [
      "Jenny[\"name\"] = \"Jenny\"\n",
      "Jenny = Dict{Any, Any}(\"name\" => \"Jenny\", :age => 13, \"hair\" => :red, :email => \"jenny@mail.com\")\n",
      "Jenny = Dict{Any, Any}(\"name\" => \"Jenny\", :age => 13, \"hair\" => :red)\n"
     ]
    }
   ],
   "source": [
    "red = (255, 0, 0)\n",
    "Jenny = Dict(\n",
    "    \"name\" => \"Jenny\",\n",
    "    \"hair\" => :red,\n",
    "    :age => 13,\n",
    ")\n",
    "\n",
    "@show Jenny[\"name\"]\n",
    "Jenny[:email] = \"jenny@mail.com\"\n",
    "@show Jenny\n",
    "pop!(Jenny, :email)\n",
    "@show Jenny;\n",
    "\n"
   ]
  },
  {
   "cell_type": "markdown",
   "metadata": {},
   "source": [
    "В данном примере используется особый тип даных Symbol, соответствующий именам переменных:\n"
   ]
  },
  {
   "cell_type": "code",
   "execution_count": 4,
   "metadata": {},
   "outputs": [
    {
     "name": "stdout",
     "output_type": "stream",
     "text": [
      "typeof(name) = Symbol\n",
      "name = :egg\n",
      "eval(:egg) = 1\n"
     ]
    }
   ],
   "source": [
    "name = :egg\n",
    "@show typeof(name)\n",
    "\n",
    "egg = 1\n",
    "@show name\n",
    "@show eval(:egg); #вывод значения переменной"
   ]
  },
  {
   "cell_type": "markdown",
   "metadata": {},
   "source": [
    "### Set"
   ]
  },
  {
   "cell_type": "markdown",
   "metadata": {},
   "source": [
    "Множество — это структура данных, эквивалентная множествам в математике. Множество может состоять из различных элементов, порядок элементов в множестве неопределен. В множество можно добавлять и удалять элементы, можно перебирать элементы множества, можно выполнять операции над множествами (объединение, пересечение, разность). Можно проверять принадлежность элемента множеству.\n",
    "\n",
    "В отличие от массивов, где элементы хранятся в виде последовательного списка, в множествах порядок хранения элементов неопределен (более того, элементы множества хранятся не подряд, как в списке, а при помощи хитрых алгоритмов). Это позволяет выполнять операции типа “проверить принадлежность элемента множеству” быстрее, чем просто перебирая все элементы множества.\n",
    "\n",
    "Элементами множества могут быть различные типы данных: числа, строки, кортежи. \n",
    "\n",
    "`Set([itr])` - Создаёт набор значений, сгенерированных данным итерируемым объектом, или пустой набор. Должен использоваться вместо BitSet для разреженных целочисленных наборов или для наборов произвольных объектов.\n",
    "\n",
    "`BitSet([itr])` - Создаст отсортированный набор целочисленных объектов, сгенерированный данным итерируемым объектом, или пустой набор. Реализуется как битовая строка и, следовательно, предназначена для плотных целочисленных наборов. Если набор будет редким (например, содержит несколько очень больших целых чисел), используйте вместо него Set."
   ]
  },
  {
   "cell_type": "code",
   "execution_count": 182,
   "metadata": {},
   "outputs": [
    {
     "name": "stdout",
     "output_type": "stream",
     "text": [
      "Set([1:6;]) = Set([5, 4, 6, 2, 3, 1])\n",
      "Set([3, 4, 5, 5, 4, 4, 1, 7, 7]) = Set([5, 4, 7, 3, 1])\n",
      "Set(\"abrakadabra\") = Set(['a', 'd', 'r', 'k', 'b'])\n",
      "Set([Set([1:6;]), Set(\"abrakadabra\")]) = Set(Set[Set([5, 4, 6, 2, 3, 1]), Set(['a', 'd', 'r', 'k', 'b'])])\n",
      "Set((4, 5, 1, 4, 6, 'a', 'q')) = Set(Any[5, 4, 6, 'a', 'q', 1])\n",
      "  0.371014 seconds (3.00 M allocations: 118.118 MiB, 56.10% gc time)\n",
      "  0.149196 seconds (3.00 M allocations: 100.436 MiB, 19.01% gc time)\n"
     ]
    }
   ],
   "source": [
    "@show Set([1:6;])\n",
    "@show Set([3,4,5,5,4,4,1,7,7]);\n",
    "@show Set(\"abrakadabra\")\n",
    "@show Set([Set([1:6;]),Set(\"abrakadabra\")])\n",
    "@show Set((4,5,1,4,6,'a','q'))\n",
    "@time Set([1000000:-1:1...])\n",
    "@time BitSet([1000000:-1:1...]);"
   ]
  },
  {
   "cell_type": "markdown",
   "metadata": {},
   "source": [
    "Для работы с множествами существует ряд функций:"
   ]
  },
  {
   "cell_type": "code",
   "execution_count": 180,
   "metadata": {},
   "outputs": [
    {
     "name": "stdout",
     "output_type": "stream",
     "text": [
      "b = Set([5, 4, 7, 3, 1])\n",
      "length(b) = 5\n",
      "5 4 7 3 1 \n",
      "b .* 6 = [30, 24, 42, 18, 6]\n",
      "5 in b = true\n",
      "sqrt.(b) = [2.23606797749979, 2.0, 2.6457513110645907, 1.7320508075688772, 1.0]\n"
     ]
    }
   ],
   "source": [
    "b = Set([3,4,5,5,4,4,1,7,7]);\n",
    "@show b\n",
    "@show length(b)\n",
    "for b_i in b\n",
    "    print(\"$b_i \")\n",
    "end\n",
    "print(\"\\n\")\n",
    "@show b.*6\n",
    "@show 5 in b\n",
    "@show sqrt.(b);"
   ]
  },
  {
   "cell_type": "markdown",
   "metadata": {},
   "source": [
    "А также специфические операции для множеств:"
   ]
  },
  {
   "cell_type": "code",
   "execution_count": 179,
   "metadata": {},
   "outputs": [
    {
     "name": "stdout",
     "output_type": "stream",
     "text": [
      "union(a, b) = Set([5, 7, 1, 4, 6, 2, 3])\n",
      "a ∪ b = Set([5, 7, 1, 4, 6, 2, 3])\n",
      "intersect(a, b) = Set([5, 4, 3, 1])\n",
      "a ∩ b = Set([5, 4, 3, 1])\n",
      "setdiff(a, b) = Set([6, 2])\n",
      "symdiff(a, b) = Set([6, 7, 2])\n",
      "issubset(a, [1, 2, 3]) = false\n",
      "[1, 2, 3] ⊆ a = true\n",
      "[1, 2, 3] ⊇ a = false\n",
      "(1, 2) ⊈ (2, 3) = true\n",
      "(1, 2) ⊈ (1, 2, 3) = false\n"
     ]
    }
   ],
   "source": [
    "a = Set([1:6;])\n",
    "b = Set([3,4,5,5,4,4,1,7,7])\n",
    "@show union(a,b) # объединение\n",
    "@show a ∪ b # \\cup + TAB\n",
    "\n",
    "@show intersect(a, b) # пересечение\n",
    "@show a ∩ b # \\cap + TAB\n",
    "\n",
    "@show setdiff(a,b) # разность\n",
    "@show symdiff(a,b) # симметрическая разность\n",
    "\n",
    "@show issubset(a, [1, 2, 3]) # проверяет, входят ли элементы множества a в b  \n",
    "@show [1,2,3] ⊆ a # \\subseteq + TAB\n",
    "@show [1,2,3] ⊇ a # \\supseteq + TAB\n",
    "@show (1, 2) ⊈ (2, 3) # отрицание \n",
    "@show (1, 2) ⊈ (1, 2, 3);\n"
   ]
  }
 ],
 "metadata": {
  "kernelspec": {
   "display_name": "Julia 1.10.3",
   "language": "julia",
   "name": "julia-1.10"
  },
  "language_info": {
   "file_extension": ".jl",
   "mimetype": "application/julia",
   "name": "julia",
   "version": "1.10.3"
  }
 },
 "nbformat": 4,
 "nbformat_minor": 2
}
