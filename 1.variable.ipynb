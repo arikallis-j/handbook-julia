{
 "cells": [
  {
   "cell_type": "markdown",
   "metadata": {},
   "source": [
    "# 1. Основы синтасксиса: Переменные\n"
   ]
  },
  {
   "cell_type": "markdown",
   "metadata": {},
   "source": [
    "## 1.1. Ввод и вывод\n"
   ]
  },
  {
   "cell_type": "markdown",
   "metadata": {},
   "source": [
    "Комментарии"
   ]
  },
  {
   "cell_type": "code",
   "execution_count": 36,
   "metadata": {},
   "outputs": [],
   "source": [
    "# однострочный комментарий\n",
    "#= \n",
    "    многострочный\n",
    "    комментарий\n",
    "=#"
   ]
  },
  {
   "cell_type": "markdown",
   "metadata": {},
   "source": [
    "В Julia есть стандартные функции ввода и вывода:\n",
    "- `print()` и `println()` для вывода\n",
    "\n",
    "- `readline()` для ввода"
   ]
  },
  {
   "cell_type": "code",
   "execution_count": 1,
   "metadata": {},
   "outputs": [
    {
     "name": "stdout",
     "output_type": "stream",
     "text": [
      "- Я буду изучать Julia!\n",
      "- Молодец, иди лучше посуду помой"
     ]
    }
   ],
   "source": [
    "println(\"- Я буду изучать Julia!\") \n",
    "print(\"- Молодец, \")\n",
    "print(\"иди лучше посуду помой\");"
   ]
  },
  {
   "cell_type": "markdown",
   "metadata": {},
   "source": [
    "Однако `readline` в рамках jupyter-блокнота не работает, а `println` не подходит для демонстрации и отладки. Поэтому в рамках курса мы будем пользоваться макросами:"
   ]
  },
  {
   "cell_type": "code",
   "execution_count": 3,
   "metadata": {},
   "outputs": [
    {
     "name": "stdout",
     "output_type": "stream",
     "text": [
      "[1, 2, 5]\n",
      "array = [1, 2, 5]\n"
     ]
    }
   ],
   "source": [
    "array = [1,2,5]\n",
    "\n",
    "println(array)\n",
    "@show array;"
   ]
  },
  {
   "cell_type": "markdown",
   "metadata": {},
   "source": [
    "Также есть специальные макросы, используемые для отладки кода:"
   ]
  },
  {
   "cell_type": "code",
   "execution_count": 4,
   "metadata": {},
   "outputs": [
    {
     "name": "stderr",
     "output_type": "stream",
     "text": [
      "┌ Info: Info message\n",
      "└ @ Main /home/helga/Рабочий стол/Кодирование/Julia/handbook-julia/1.variable.ipynb:1\n",
      "┌ Warning: Warning message\n",
      "└ @ Main /home/helga/Рабочий стол/Кодирование/Julia/handbook-julia/1.variable.ipynb:2\n",
      "┌ Error: Error message\n",
      "└ @ Main /home/helga/Рабочий стол/Кодирование/Julia/handbook-julia/1.variable.ipynb:3\n"
     ]
    },
    {
     "name": "stdout",
     "output_type": "stream",
     "text": [
      "  0.027454 seconds (21.27 k allocations: 1.421 MiB, 99.61% compilation time)\n"
     ]
    }
   ],
   "source": [
    "@info \"Info message\"\n",
    "@warn \"Warning message\"\n",
    "@error \"Error message\"\n",
    "\n",
    "@time cubed = [i^3 for i = 1:10] # отслеживание времени выполнения\n",
    "\n",
    "@assert 3 == 2 + 1 # выводится ошибка если false\n",
    "@debug \"3\"/2.0; # ошибка не выводится"
   ]
  },
  {
   "cell_type": "markdown",
   "metadata": {},
   "source": [
    "Также, сразу стоит сказать, как преобразовывать типы при вводе. Стандартный метод преобразования:"
   ]
  },
  {
   "cell_type": "code",
   "execution_count": 5,
   "metadata": {},
   "outputs": [
    {
     "name": "stdout",
     "output_type": "stream",
     "text": [
      "z = x * y = 6.0\n",
      "typeof(x) = Int64\n",
      "typeof(y) = Float64\n",
      "typeof(z) = Float64\n",
      "z = x * y = 6.0f0\n",
      "typeof(x) = Float32\n",
      "typeof(y) = Float32\n",
      "typeof(z) = Float32\n"
     ]
    }
   ],
   "source": [
    "# Meta.parse автоматически приводит к нужному типу\n",
    "x = Meta.parse(\"3\")\n",
    "y = Meta.parse(\"2.0\")\n",
    "@show z = x * y\n",
    "@show typeof(x)\n",
    "@show typeof(y)\n",
    "@show typeof(z)\n",
    "\n",
    "# Base.parse преобразует введенную переменную к указанному типу\n",
    "x = parse(Float32, \"3\")\n",
    "y = parse(Float32,\"2.0\")\n",
    "@show z = x * y\n",
    "@show typeof(x)\n",
    "@show typeof(y)\n",
    "@show typeof(z);"
   ]
  },
  {
   "cell_type": "markdown",
   "metadata": {},
   "source": [
    "## 1.2. Строки и символы"
   ]
  },
  {
   "cell_type": "markdown",
   "metadata": {},
   "source": [
    "Рассмотрим основные свойства для строк и символов:"
   ]
  },
  {
   "cell_type": "code",
   "execution_count": 6,
   "metadata": {},
   "outputs": [
    {
     "name": "stdout",
     "output_type": "stream",
     "text": [
      "typeof('a') = Char\n",
      "typeof(\"Hello, World!\") = String\n",
      "Еще одна приятная вещь в строковых литералах\n",
      "с тройными кавычками заключается в том, что они игнорируют\n",
      "начальные отступы, что хорошо для длинных строк в реальном коде.\n",
      "Скажи \"рыба!\".\n",
      "Ответь \"селёдка!\".\n",
      "1\n",
      "2\n",
      "3\t4\n",
      "s1 * s2 = \"Hello, World!\"\n",
      "string(s1, s2) = \"Hello, World!\"\n",
      "parse(Float64, \"1.564\") = 1.564\n",
      "replace(\"Python is the best language\", \"Python\" => \"Julia\") = \"Julia is the best language\"\n",
      "split(\"Ma.rch\", \".\") = SubString{String}[\"Ma\", \"rch\"]\n",
      "strip(\" \\ta ba\\n\") = \"a ba\"\n",
      "repeat(\"ha\", 3) = \"hahaha\"\n"
     ]
    }
   ],
   "source": [
    "# Одинарные кавычки ипользуются для типа Char (символ)\n",
    "@show typeof('a')\n",
    "# Двойные кавычки используются для типа String (строка)\n",
    "@show typeof(\"Hello, World!\")\n",
    "\n",
    "# Тройные кавычки используются для многострочных выражений\n",
    "println(\"\"\"Еще одна приятная вещь в строковых литералах\n",
    "    с тройными кавычками заключается в том, что они игнорируют\n",
    "    начальные отступы, что хорошо для длинных строк в реальном коде.\"\"\")\n",
    "\n",
    "# Как можно вывести двойные кавычки в тексте\n",
    "println(\"Скажи \\\"рыба!\\\".\")\n",
    "println(\"\"\"Ответь \"селёдка!\".\"\"\")\n",
    "\n",
    "# Также в текст можно добавлять переносы строк и табы\n",
    "println(\"1\\n2\")\n",
    "println(\"3\\t4\")\n",
    "\n",
    "# Конкатенация (объединение) строк\n",
    "s1 = \"Hello, \"\n",
    "s2 = \"World!\"\n",
    "@show s1 * s2\n",
    "@show string(s1, s2)\n",
    "\n",
    "# Другие забавные функции для работы со строками\n",
    "@show parse(Float64, \"1.564\") #парсинг из строки в число\n",
    "@show replace(\"Python is the best language\", \"Python\" => \"Julia\") #замена выражения в строке\n",
    "@show split(\"Ma.rch\",\".\") # Разбиение строки\n",
    "@show strip(\" \\ta ba\\n\") # Удаление whitespace окружения\n",
    "@show repeat(\"ha\", 3); #повторение строки"
   ]
  },
  {
   "cell_type": "markdown",
   "metadata": {},
   "source": [
    "Рассмотрим также работу со строками как с массивами:"
   ]
  },
  {
   "cell_type": "code",
   "execution_count": 8,
   "metadata": {},
   "outputs": [
    {
     "name": "stdout",
     "output_type": "stream",
     "text": [
      "bS = \"Quantum Enigma\"\n",
      "bS[2] = 'u'\n",
      "bS[end] = 'a'\n",
      "length(bS) = 14\n",
      "chop(bS, head = 1, tail = 2) = \"uantum Enig\"\n",
      "bS[9:12] = \"Enig\"\n",
      "bS[9:2:12] = \"Ei\"\n",
      "bS[7:-1:3] = \"mutna\"\n",
      "bS[2:3:14] = \"ut ia\"\n",
      "findfirst(\"Julia\", \"JuliaLang\") = 1:5\n",
      "findnext(\"o\", \"Hello to the world\", 6) = 8:8\n",
      "findlast(\"o\", \"Hello to the world\") = 15:15\n",
      "Привет, я Вася.\n",
      "У меня на руках 10 пальцев и на ногах 10.\n",
      "Итого 20.\n"
     ]
    }
   ],
   "source": [
    "bS = \"Quantum Enigma\"\n",
    "@show bS\n",
    "#=\n",
    "ATTENTION! \n",
    "Отсчёт элементов массивов в Julia начинается с единицы!\n",
    "(Как например в языке Fortran)\n",
    "=#\n",
    "@show bS[2] # символ по индексу \n",
    "@show bS[end] # последний символ\n",
    "@show length(bS) # длина строки\n",
    "\n",
    "# Срез массива как функция\n",
    "@show chop(bS, head = 1, tail = 2)\n",
    "\n",
    "# Срез массива как оператор [от:до:шаг]\n",
    "@show bS[9:12]\n",
    "@show bS[9:2:12]\n",
    "@show bS[7:-1:3]\n",
    "@show bS[2:3:14]\n",
    "\n",
    "# поиск подстрок в строке\n",
    "@show findfirst(\"Julia\", \"JuliaLang\")\n",
    "@show findnext(\"o\", \"Hello to the world\", 6)\n",
    "@show findlast(\"o\", \"Hello to the world\")\n",
    "\n",
    "# интерполяция переменных в строку\n",
    "name = \"Вася\"\n",
    "num_fingers = 10\n",
    "num_toes = 10\n",
    "println(\"Привет, я $name.\")\n",
    "println(\"У меня на руках $num_fingers пальцев и на ногах $num_toes.\")\n",
    "println(\"Итого $(num_fingers+num_toes).\");"
   ]
  },
  {
   "cell_type": "markdown",
   "metadata": {},
   "source": [
    "## 1.3. Переменные"
   ]
  },
  {
   "cell_type": "markdown",
   "metadata": {},
   "source": [
    "Приятная для учёных вещь в Julia - это возможность использовать Unicode для названий переменных:"
   ]
  },
  {
   "cell_type": "code",
   "execution_count": 9,
   "metadata": {},
   "outputs": [
    {
     "name": "stdout",
     "output_type": "stream",
     "text": [
      "typeof('α') = Char\n",
      "typeof('🐶') = Char\n",
      "α + 🐶 = 3\n",
      "Float64(π) = 3.141592653589793\n",
      "π == pi = true\n",
      "Float64(ℯ) = 2.718281828459045\n"
     ]
    }
   ],
   "source": [
    "# Символы Юникода:\n",
    "@show typeof('α') # \\alpha<tab>\n",
    "@show typeof('🐶') # \\:dog:<tab>\n",
    "α = 1\n",
    "🐶 = 2\n",
    "@show α + 🐶\n",
    "\n",
    "# Математические константы:\n",
    "@show Float64(π) # \\pi<tab>\n",
    "@show π == pi \n",
    "@show Float64(ℯ); # \\euler<tab>"
   ]
  },
  {
   "cell_type": "markdown",
   "metadata": {},
   "source": [
    "Ещё одно важное уточнение для понимания происходящего: каждое выражение в Julia является выполняемым. Поэтому даже при выполнении кода вне блокнота, последняя строчка кода/функции является аргументом для вывода.\n",
    "\n",
    "Например:\n",
    "```julia\n",
    "2*x + 1\n",
    "```\n",
    "эквивалентно\n",
    "```julia\n",
    "return 2*x + 1\n",
    "```\n",
    "`return` естественно не прописывают, но если добавить в конце `;`, то выражение будет считаться законченым, и код ничего не вернет:\n"
   ]
  },
  {
   "cell_type": "code",
   "execution_count": 9,
   "metadata": {},
   "outputs": [
    {
     "name": "stdout",
     "output_type": "stream",
     "text": [
      "y = 2\n",
      "z = 2x + 3y = 8\n",
      "z = 3x + 5y = 13\n"
     ]
    }
   ],
   "source": [
    "x, y = 1, 2\n",
    "@show y\n",
    "@show z = 2*x + 3*y\n",
    "@show z = 3x + 5y\n",
    "\n",
    "2*x + 1;"
   ]
  },
  {
   "cell_type": "markdown",
   "metadata": {},
   "source": [
    "Немного о типах данных. Все переменные в Julia имеют определенный тип данных (подробнее о типах в разделе 4.2). Однако Julia может сама определять тип данных:"
   ]
  },
  {
   "cell_type": "code",
   "execution_count": 35,
   "metadata": {},
   "outputs": [
    {
     "name": "stdout",
     "output_type": "stream",
     "text": [
      "typeof(my_answer) = Int64\n",
      "typeof(my_pi) = Float64\n",
      "typeof(my_euler) = Float32\n"
     ]
    }
   ],
   "source": [
    "my_answer = 42\n",
    "@show typeof(my_answer)\n",
    "\n",
    "my_pi = 3.14159\n",
    "@show typeof(my_pi)\n",
    "\n",
    "my_euler::Float32 = 2.71828\n",
    "@show typeof(my_euler);\n"
   ]
  }
 ],
 "metadata": {
  "kernelspec": {
   "display_name": "Julia 1.10.3",
   "language": "julia",
   "name": "julia-1.10"
  },
  "language_info": {
   "file_extension": ".jl",
   "mimetype": "application/julia",
   "name": "julia",
   "version": "1.10.3"
  }
 },
 "nbformat": 4,
 "nbformat_minor": 2
}
