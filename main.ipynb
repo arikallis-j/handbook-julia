{
 "cells": [
  {
   "cell_type": "markdown",
   "metadata": {},
   "source": [
    "# Основы языка Julia для физиков"
   ]
  },
  {
   "cell_type": "markdown",
   "metadata": {},
   "source": [
    "Содержание семинара:\n",
    "\n",
    "0. Julia: установка и запуск\n",
    "    - Julia - что это и зачем?\n",
    "    - Установка Julia\n",
    "    - Запуск программ: JuliaREPL, VSCode и Pluto\n",
    "1. Основы синтасксиса: Переменные\n",
    "    - Ввод и вывод\n",
    "    - Строки и символы\n",
    "    - Переменные\n",
    "2. Основы синтасксиса: Математика\n",
    "    - Операторы\n",
    "    - Типы данных: Numbers\n",
    "    - Циклы и условия\n",
    "3. Основы синтасксиса: Массивы\n",
    "    - Arrays\n",
    "    - Tuple, Dict, Sets\n",
    "4. Основы синтасксиса: Функции и структуры\n",
    "    - Функции\n",
    "    - Типы в Julia\n",
    "    - Multiple dispatch\n",
    "5. Библиотеки: подключение чужих наработок\n",
    "    - Модули и Пакеты\n",
    "    - Линейная алгебра\n",
    "    - Как обработать лабу\n",
    "\n"
   ]
  },
  {
   "cell_type": "markdown",
   "metadata": {},
   "source": [
    "## Статьи на почитать:"
   ]
  },
  {
   "cell_type": "markdown",
   "metadata": {},
   "source": [
    "#### **Общие слова про Julia**\n",
    "\n",
    "[Почему я делаю ставку на Julia](https://habr.com/ru/articles/210298/)\n",
    "\n",
    "[Matlab vs. Julia vs. Python](https://habr.com/ru/companies/edison/articles/480716/)\n",
    "\n",
    "[Python пора потесниться. О перспективах Julia](https://habr.com/ru/companies/piter/articles/500472/)\n",
    "\n",
    "[Почему мы создали Джулию, новый ЯП для технических вычислений](https://habr.com/ru/articles/138577/)\n",
    "\n",
    "[Как я с Python на Julia переходил (и зачем)](https://habr.com/ru/articles/427879/)\n",
    "\n",
    "[Julia 1.9. Основные моменты](https://habr.com/ru/articles/735014/)\n",
    "\n",
    "[Непостижимая эффективность множественной диспетчеризации](https://habr.com/ru/articles/468609/)\n",
    "\n",
    "[Julia. Метапрограммирование и макросы](https://habr.com/ru/articles/796765/)\n",
    "\n",
    "[Julia. Знакомство](https://habr.com/ru/articles/423811/)\n",
    "\n",
    "[Julia готова для прода](https://habr.com/ru/articles/519930/)"
   ]
  },
  {
   "cell_type": "markdown",
   "metadata": {},
   "source": [
    "#### **Физические задачки на Julia**\n",
    "\n",
    "[Максимальная оптимизация игры «Жизнь» на Julia](https://habr.com/ru/articles/706228/)\n",
    "\n",
    "[Julia и рой частиц](https://habr.com/ru/articles/440234/)\n",
    "\n",
    "[Julia и движение заряженной частицы в электромагнитном поле](https://habr.com/ru/articles/429790/)\n",
    "\n",
    "[Julia и уравнения в частных производных](https://habr.com/ru/articles/429218/)\n",
    "\n",
    "[Julia и фазовые портреты динамических систем](https://habr.com/ru/articles/428984/)\n",
    "\n",
    "[Моделирование кинематики — это не сложно](https://habr.com/ru/articles/313138/)\n",
    "\n",
    "[Вечеропятничное моделирование: как плавает акула-собака](https://habr.com/ru/articles/576598/)\n",
    "\n",
    "[Julia и клеточные автоматы](https://habr.com/ru/articles/490454/)\n",
    "\n",
    "[Julia и квантовые вычисления](https://habr.com/ru/articles/493380/)\n",
    "\n",
    "[Расставляя все точки над «пси»](https://habr.com/ru/articles/501858/)\n",
    "\n",
    "[Непристойное приложение](https://habr.com/ru/articles/508644/)\n",
    "\n",
    "[Визуализация Пи, Тау и простых чисел](https://habr.com/ru/articles/531050/)\n",
    "\n",
    "[Первые шаги в ОТО: прецессия орбиты Меркурия](https://habr.com/ru/articles/572164/)\n",
    "\n",
    "[Кадрим девчонок с помощью метрики Эллиса-Бронникова](https://habr.com/ru/articles/573666/)\n",
    "\n",
    "[Максимальная оптимизация игры «Жизнь» на Julia](https://habr.com/ru/articles/706228/)\n",
    "\n",
    "\n",
    "\n"
   ]
  },
  {
   "cell_type": "markdown",
   "metadata": {},
   "source": [
    "#### **Библиотеки для Julia**\n",
    "\n",
    "[Javis v0.3 и анимация рядов Фурье](https://habr.com/ru/articles/530652/)\n",
    "\n",
    "[Debugging в Julia — два способа](https://habr.com/ru/articles/531776/)\n",
    "\n",
    "[Фармакокинетическое моделирование в Julia: практическое использование DiffEquations.jl и Optim.jl](https://habr.com/ru/articles/508084/)\n",
    "\n",
    "[Luxor](https://habr.com/ru/articles/459842/)\n",
    "\n",
    "[Julia. Веб-сервисы](https://habr.com/ru/articles/449338/)\n",
    "\n",
    "[Джулия в латексе](https://habr.com/ru/articles/448096/)\n",
    "\n",
    "[Julia. Генераторы отчётов и документации](https://habr.com/ru/articles/439442/)\n",
    "\n",
    "[Графика в Julia. Странные паттерны, отражение треугольника от прямой и построение нормалей сферического кота в вакууме](https://habr.com/ru/articles/426387/)\n",
    "\n",
    "[Julia. Скрипты и разбор аргументов командной строки](https://habr.com/ru/articles/430942/)\n",
    "\n",
    "[Ускорение запуска Julia при помощи PackageCompiler.jl](https://habr.com/ru/articles/451068/)\n",
    "\n",
    "[Джулия и параллельные вычисления](https://habr.com/ru/articles/454998/)\n",
    "\n",
    "[Julia и нейронные сети: Flux](https://habr.com/ru/articles/474084/)"
   ]
  },
  {
   "cell_type": "markdown",
   "metadata": {},
   "source": [
    "#### **Нюансы языка Julia**\n",
    "\n",
    "[Кратко про FP в Julia](https://habr.com/ru/companies/otus/articles/794819/)\n",
    "\n",
    "[Синтаксические вкусности Julia](https://habr.com/ru/articles/502428/)\n",
    "\n",
    "[Pattern matching с помощью макросов](https://habr.com/ru/articles/242201/)\n",
    "\n",
    "[Julia. Работа с таблицами](https://habr.com/ru/articles/429994/)\n",
    "\n",
    "[Julia. Строки и Метапрограммирование](https://habr.com/ru/articles/431438/)\n",
    "\n",
    "[Распределенные вычисления в Julia](https://habr.com/ru/articles/455846/)\n",
    "\n",
    "[Julia: пользовательские типы](https://habr.com/ru/articles/463857/)\n",
    "\n",
    "[Julia. С чего начать проект?…](https://habr.com/ru/articles/473290/)\n",
    "\n",
    "[Julia: типы, мультиметоды и арифметика над полиномами](https://habr.com/ru/articles/450628/)\n",
    "\n",
    "[А что, если без Python? Julia для машинного обучения и вообще](https://habr.com/ru/companies/oleg-bunin/articles/476114/)\n",
    "\n",
    "[Julia и метод покоординатного спуска](https://habr.com/ru/articles/439900/)\n",
    "\n",
    "[РЕПА ПО БИБЛИОТЕКАМ](https://github.com/YermolenkoIgor/Julia_tutorial_rus)"
   ]
  }
 ],
 "metadata": {
  "kernelspec": {
   "display_name": "Julia 1.10.3",
   "language": "julia",
   "name": "julia-1.10"
  },
  "language_info": {
   "file_extension": ".jl",
   "mimetype": "application/julia",
   "name": "julia",
   "version": "1.10.3"
  }
 },
 "nbformat": 4,
 "nbformat_minor": 2
}
