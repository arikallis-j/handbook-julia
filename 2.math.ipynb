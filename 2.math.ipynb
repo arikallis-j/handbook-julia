{
 "cells": [
  {
   "cell_type": "markdown",
   "metadata": {},
   "source": [
    "# 2. Основы синтасксиса: Математика"
   ]
  },
  {
   "cell_type": "markdown",
   "metadata": {},
   "source": [
    "## 2.1. Операторы"
   ]
  },
  {
   "cell_type": "markdown",
   "metadata": {},
   "source": [
    "### Математические операторы"
   ]
  },
  {
   "cell_type": "markdown",
   "metadata": {},
   "source": [
    "Операции в Julia обозначаются почти также как в Python, за исключением возведения в степень"
   ]
  },
  {
   "cell_type": "code",
   "execution_count": 1,
   "metadata": {},
   "outputs": [
    {
     "name": "stdout",
     "output_type": "stream",
     "text": [
      "sum = 3 + 7 = 10\n",
      "difference = 10 - 3 = 7\n",
      "product = 20 * 5 = 100\n",
      "quotient = 100 / 10 = 10.0\n",
      "power = 10 ^ 2 = 100\n",
      "modulus = 101 % 2 = 1\n"
     ]
    }
   ],
   "source": [
    "@show sum = 3 + 7\n",
    "@show difference = 10 - 3\n",
    "@show product = 20 * 5\n",
    "@show quotient = 100 / 10 \n",
    "@show power = 10 ^ 2\n",
    "@show modulus = 101 % 2;"
   ]
  },
  {
   "cell_type": "markdown",
   "metadata": {},
   "source": [
    "Также, поскольку Julia работает с Unicode, то есть приятные бонусы"
   ]
  },
  {
   "cell_type": "code",
   "execution_count": 12,
   "metadata": {},
   "outputs": [
    {
     "name": "stdout",
     "output_type": "stream",
     "text": [
      "sqrt(2) = 1.4142135623730951\n",
      "√2 = 1.4142135623730951\n",
      "div(10, 6) = 1\n",
      "10 ÷ 6 = 1\n"
     ]
    }
   ],
   "source": [
    "@show sqrt(2) # квадратный корернь\n",
    "@show √2 #  \\sqrt + TAB\n",
    "@show div(10, 6) # целочисленное деление\n",
    "@show 10 ÷ 6; # \\div + TAB"
   ]
  },
  {
   "cell_type": "markdown",
   "metadata": {},
   "source": [
    "### Логические операторы"
   ]
  },
  {
   "cell_type": "markdown",
   "metadata": {},
   "source": [
    "Стандартные операторы для логических типов, и стоит отметить что они могут работать в режиме \"короткого замыкания\""
   ]
  },
  {
   "cell_type": "code",
   "execution_count": 9,
   "metadata": {},
   "outputs": [
    {
     "name": "stdout",
     "output_type": "stream",
     "text": [
      "false && true = false\n",
      "false || true = true\n",
      "!false = true\n",
      "xor(true, false) = true\n",
      "false ⊻ false = false\n",
      "nand(true, true) = false\n",
      "false ⊼ true = true\n",
      "x must be positive\n",
      "true & true = true\n",
      "true | false = true\n",
      "missing & true = missing\n",
      "missing & false = false\n",
      "missing | true = true\n",
      "missing | false = missing\n"
     ]
    }
   ],
   "source": [
    "@show false && true # AND \n",
    "@show false || true # OR\n",
    "@show !(false) # NOT\n",
    "\n",
    "@show xor(true, false) # XOR\n",
    "@show false ⊻ false # \\xor + TAB\n",
    "@show nand(true, true) # NAND\n",
    "@show false ⊼ true # \\nand + TAB\n",
    "\n",
    "# \"короткое замыкание\"\n",
    "x = -42\n",
    "x > 0 || println(\"x must be positive\")\n",
    "\n",
    "# тип missing позволяет реализовать троичную логику\n",
    "@show true & true\n",
    "@show true | false\n",
    "@show missing & true\n",
    "@show missing & false\n",
    "@show missing | true\n",
    "@show missing | false;"
   ]
  },
  {
   "cell_type": "markdown",
   "metadata": {},
   "source": [
    "Операторы сравнения чисел"
   ]
  },
  {
   "cell_type": "code",
   "execution_count": 10,
   "metadata": {},
   "outputs": [
    {
     "name": "stdout",
     "output_type": "stream",
     "text": [
      "1 == 1.0 = true\n",
      "1 === 1.0 = false\n",
      "1 != 1.0 = false\n",
      "1 !== 1.0 = true\n",
      "3 < π = true\n",
      "1 <= 1 = true\n",
      "1 ≤ 2 = true\n",
      "0.1 + 0.2 = 0.30000000000000004\n",
      "0.1 + 0.2 == 0.3 = false\n",
      "0.1 + 0.2 ≈ 0.3 = true\n",
      "isapprox(10.1, 10.3; rtol = 0.05) = true\n",
      "isapprox(10.1, 10.3; atol = 0.1) = false\n"
     ]
    }
   ],
   "source": [
    "@show 1 == 1.0 # Равенство\n",
    "@show 1 === 1.0 # Эквивалентность\n",
    "@show 1 != 1.0 # Неравенство\n",
    "@show 1 !== 1.0 # Неэквивалентность\n",
    "\n",
    "@show 3 < π\n",
    "@show 1 <= 1\n",
    "@show 1 ≤ 2 # \\le + TAB\n",
    "\n",
    "# Сравнение чисел с плавающей точкой\n",
    "@show 0.1 + 0.2\n",
    "@show 0.1 + 0.2 == 0.3\n",
    "@show 0.1 + 0.2 ≈ 0.3 # \\approx + TAB\n",
    "\n",
    "@show isapprox(10.1, 10.3; rtol=0.05) # равны с точностью ε = 5%\n",
    "@show isapprox(10.1, 10.3; atol=0.1); # равны с точностью σ = 0.1"
   ]
  },
  {
   "cell_type": "markdown",
   "metadata": {},
   "source": [
    "Побитовая арифметика"
   ]
  },
  {
   "cell_type": "code",
   "execution_count": 63,
   "metadata": {},
   "outputs": [
    {
     "name": "stdout",
     "output_type": "stream",
     "text": [
      "0x2a & 0x70 = 0x20\n",
      "0x2a | 0x70 = 0x7a\n",
      "0x02 << 2 = 0x08\n"
     ]
    }
   ],
   "source": [
    "@show 0x2a & 0x70 # AND\n",
    "@show 0x2a | 0x70 # OR\n",
    "@show 0b0010 << 2; # == 0b1000"
   ]
  },
  {
   "cell_type": "markdown",
   "metadata": {},
   "source": [
    "## 2.3. Типы данных: Numbers"
   ]
  },
  {
   "cell_type": "markdown",
   "metadata": {},
   "source": [
    "В Julia нет Объектно-Ориентированного Программирования в привычном виде, и эту функцию берут на себя типы. Все типы наследуются от типа Any, однако конкретная перменная не могжет принадлежать к этому типу. Такие типы называются в Julia абстрактными (*abstract*), так как они не имеют конкретной реализации, но задают структуру иерархии типов. Подробнее это рассмотренно в разделе 4.2, а пока вот как выглядит дерево типов для типа Numbers:"
   ]
  },
  {
   "cell_type": "code",
   "execution_count": 186,
   "metadata": {},
   "outputs": [],
   "source": [
    "\"\"\"\n",
    "Number  (Abstract Type)\n",
    "├─ Complex\n",
    "└─ Real  (Abstract Type)\n",
    "   ├─ AbstractFloat  (Abstract Type)\n",
    "   │  ├─ Float16\n",
    "   │  ├─ Float32\n",
    "   │  ├─ Float64\n",
    "   │  └─ BigFloat\n",
    "   ├─ Integer  (Abstract Type)\n",
    "   │  ├─ Bool\n",
    "   │  ├─ Signed  (Abstract Type)\n",
    "   │  │  ├─ Int8\n",
    "   │  │  ├─ Int16\n",
    "   │  │  ├─ Int32\n",
    "   │  │  ├─ Int64\n",
    "   │  │  ├─ Int128\n",
    "   │  │  └─ BigInt\n",
    "   │  └─ Unsigned  (Abstract Type)\n",
    "   │     ├─ UInt8\n",
    "   │     ├─ UInt16\n",
    "   │     ├─ UInt32\n",
    "   │     ├─ UInt64\n",
    "   │     └─ UInt128\n",
    "   ├─ Rational\n",
    "   └─ AbstractIrrational  (Abstract Type)\n",
    "      └─ Irrational\n",
    "\"\"\";"
   ]
  },
  {
   "cell_type": "markdown",
   "metadata": {},
   "source": [
    "В качестве примера: несколько способов написания числа сорок два:"
   ]
  },
  {
   "cell_type": "code",
   "execution_count": 185,
   "metadata": {},
   "outputs": [
    {
     "name": "stdout",
     "output_type": "stream",
     "text": [
      "typeof(42) = Int64\n",
      "typeof(0x0000002a) = UInt32\n",
      "typeof(0x2a) = UInt8\n",
      "typeof(42.0) = Float64\n",
      "typeof(42.0) = Float64\n",
      "typeof(42.0f0) = Float32\n",
      "typeof(42 + 0im) = Complex{Int64}\n",
      "typeof(42.0 + 0.0im) = ComplexF64\n",
      "typeof(42 // 1) = Rational{Int64}\n",
      "typeof((42 + 0im) // 1) = Complex{Rational{Int64}}\n"
     ]
    }
   ],
   "source": [
    "@show typeof(42) #Int в 10-м виде\n",
    "@show typeof(0x000002a) #UInt в 16-м виде\n",
    "@show typeof(0b101010) #UInt в 2-м виде\n",
    "\n",
    "@show typeof(42.0) #Float в общем виде\n",
    "@show typeof(4.2e1) # Float64 (двойной точности)\n",
    "@show typeof(4.2f1) # Float32 (одинарной точности)\n",
    "\n",
    "@show typeof(42 + 0im) #Complex в целых числах (гауссовы числа)\n",
    "@show typeof(42.0 + 0.0im) #Complex в действительных числах\n",
    "\n",
    "@show typeof(42//1) # Rational в целых числах\n",
    "@show typeof((42+0im)//1); # Rational в целых числах"
   ]
  },
  {
   "cell_type": "markdown",
   "metadata": {},
   "source": [
    "И ещё несколько полезных моментов для работы с числами:"
   ]
  },
  {
   "cell_type": "code",
   "execution_count": 189,
   "metadata": {},
   "outputs": [
    {
     "name": "stdout",
     "output_type": "stream",
     "text": [
      "typeof(π) = Irrational{:π}\n",
      "round(π; digits = 5) = 3.14159\n",
      "1000000 == 1000000 = true\n"
     ]
    }
   ],
   "source": [
    "@show typeof(π) # Для математических констант есть особый тип Irrational\n",
    "@show round(π; digits = 5) # Округление до n знаков после запятой\n",
    "@show 1000000 == 1_000_000; # красивая запись многоразрядных целых чисел"
   ]
  },
  {
   "cell_type": "markdown",
   "metadata": {},
   "source": [
    "# 2.3. Циклы и условия\n"
   ]
  },
  {
   "cell_type": "markdown",
   "metadata": {},
   "source": [
    "## Условия и тернарные операторы"
   ]
  },
  {
   "cell_type": "markdown",
   "metadata": {},
   "source": [
    "Основная конструкция это `if-elseif-else` блок. "
   ]
  },
  {
   "cell_type": "code",
   "execution_count": null,
   "metadata": {},
   "outputs": [
    {
     "name": "stdout",
     "output_type": "stream",
     "text": [
      "task_2 = \"1 < 2\"\n"
     ]
    }
   ],
   "source": [
    "x, y = 1, 2\n",
    "task_1 = \"$x > $y\"\n",
    "task_2 = \"$x < $y\"\n",
    "task_3 = \"$x == $y\"\n",
    "\n",
    "if x > y\n",
    "    @show task_1\n",
    "elseif x < y\n",
    "    @show task_2\n",
    "else\n",
    "    @show task_3\n",
    "end;"
   ]
  },
  {
   "cell_type": "markdown",
   "metadata": {},
   "source": [
    "Также в вашем распоряжении тернарный оператор `cond ? whentrue : whenfalse`:"
   ]
  },
  {
   "cell_type": "code",
   "execution_count": null,
   "metadata": {},
   "outputs": [
    {
     "name": "stdout",
     "output_type": "stream",
     "text": [
      "if x > y\n",
      "    t1\n",
      "else\n",
      "    if x < y\n",
      "        t2\n",
      "    else\n",
      "        t3\n",
      "    end\n",
      "end = \"1 < 2\"\n"
     ]
    }
   ],
   "source": [
    "x, y = 1, 2\n",
    "t1 = \"$x > $y\"\n",
    "t2 = \"$x < $y\"\n",
    "t3 = \"$x == $y\"\n",
    "\n",
    "@show x > y ? t1 : (x < y ? t2 : t3);"
   ]
  },
  {
   "cell_type": "markdown",
   "metadata": {},
   "source": [
    "### Циклы while и for"
   ]
  },
  {
   "cell_type": "markdown",
   "metadata": {},
   "source": [
    "Julia предоставляет два цикла: `while` и `for`."
   ]
  },
  {
   "cell_type": "markdown",
   "metadata": {},
   "source": [
    "**While**"
   ]
  },
  {
   "cell_type": "code",
   "execution_count": null,
   "metadata": {},
   "outputs": [
    {
     "name": "stdout",
     "output_type": "stream",
     "text": [
      "1\n",
      "2\n",
      "3\n",
      "4\n",
      "5\n"
     ]
    }
   ],
   "source": [
    "i = 1;\n",
    "while i <= 5\n",
    "    println(i)\n",
    "    i += 1\n",
    "end"
   ]
  },
  {
   "cell_type": "markdown",
   "metadata": {},
   "source": [
    "Цикл `while` создаёт собственное пространство имён, что может вызвать фрустрацию. Если вы используете `while`-цикл в глобальном пространстве скрипта, то при обращении к переменной `i` будет ошибка. В этом случае можно внутри цикла указать `global i`, чтобы внутри `while` она была видна. Более лучший вариант это обернуть пример выше в функцию, функции создают собственное пространство имён и конфликта со вложенным в неё `while` не будет."
   ]
  },
  {
   "cell_type": "markdown",
   "metadata": {},
   "source": [
    "**For**"
   ]
  },
  {
   "cell_type": "markdown",
   "metadata": {},
   "source": [
    "У `for`-цикла следующий синтаксис.\n",
    "\n",
    "```julia\n",
    "for item in iterator\n",
    "    ...\n",
    "end\n",
    "```\n",
    "\n",
    "Переменная цикла `item` создаётся внутри видимости цикла `for` автоматически. После исполнения цикла она недоступна, если не была объявлена во внешней области видимости."
   ]
  },
  {
   "cell_type": "code",
   "execution_count": null,
   "metadata": {},
   "outputs": [
    {
     "name": "stdout",
     "output_type": "stream",
     "text": [
      "1\n",
      "2\n",
      "3\n"
     ]
    }
   ],
   "source": [
    "for j = 1:3\n",
    "    println(j)\n",
    "end"
   ]
  },
  {
   "cell_type": "markdown",
   "metadata": {},
   "source": [
    "Здесь использован *range operator* `start:stop`, создающий генератор арифметической прогрессии.\n",
    "Также есть функция `range`, позволяющая создавать такие генераторы через длину последовательности.\n"
   ]
  },
  {
   "cell_type": "markdown",
   "metadata": {},
   "source": [
    "Итерировать можно и по коллекциям. Ниже пример для кортежа Tuple (о кортежах - чуть позже)"
   ]
  },
  {
   "cell_type": "code",
   "execution_count": null,
   "metadata": {},
   "outputs": [
    {
     "name": "stdout",
     "output_type": "stream",
     "text": [
      "1\n",
      "2\n",
      "hello\n"
     ]
    }
   ],
   "source": [
    "for j in (1, 2, \"hello\")\n",
    "    println(j)\n",
    "end"
   ]
  },
  {
   "cell_type": "markdown",
   "metadata": {},
   "source": [
    "Доступно множество утилит для итерирования: `zip`, `enumerate`, `drop`, `rest`..."
   ]
  },
  {
   "cell_type": "code",
   "execution_count": null,
   "metadata": {},
   "outputs": [
    {
     "name": "stdout",
     "output_type": "stream",
     "text": [
      "1: 1\n",
      "2: 2\n",
      "3: hello\n"
     ]
    }
   ],
   "source": [
    "for (i, val) in enumerate((1, 2, \"hello\"))\n",
    "    println(\"$i: $val\")\n",
    "end"
   ]
  },
  {
   "cell_type": "markdown",
   "metadata": {},
   "source": [
    "Для циклов доступны стандартные команды досрочного завершения итерации `continue` и всего цикла `break`.\n",
    "\n",
    "Циклы могут быть вложенными. Для вложенного `for`-цикла существует альтернативный вариант синтаксиса:"
   ]
  },
  {
   "cell_type": "code",
   "execution_count": null,
   "metadata": {},
   "outputs": [
    {
     "name": "stdout",
     "output_type": "stream",
     "text": [
      "i = 3, j = 1\n",
      "i = 4, j = 1\n",
      "i = 3, j = 2\n",
      "i = 4, j = 2\n",
      "i = 3, j = 1\n",
      "i = 4, j = 1\n",
      "i = 3, j = 2\n",
      "i = 4, j = 2\n"
     ]
    }
   ],
   "source": [
    "for j in 1:2\n",
    "    for i in 3:4\n",
    "        println(\"i = $i, j = $j\")\n",
    "    end\n",
    "end\n",
    "\n",
    "for j in 1:2, i in 3:4\n",
    "    println(\"i = $i, j = $j\")\n",
    "end"
   ]
  }
 ],
 "metadata": {
  "kernelspec": {
   "display_name": "Julia 1.10.3",
   "language": "julia",
   "name": "julia-1.10"
  },
  "language_info": {
   "file_extension": ".jl",
   "mimetype": "application/julia",
   "name": "julia",
   "version": "1.10.3"
  }
 },
 "nbformat": 4,
 "nbformat_minor": 2
}
