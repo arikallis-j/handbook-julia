{
 "cells": [
  {
   "cell_type": "markdown",
   "metadata": {},
   "source": [
    "# 5. Библиотеки в Julia\n",
    "\n"
   ]
  },
  {
   "cell_type": "markdown",
   "metadata": {},
   "source": [
    "## 5.1. Модули и Пакеты"
   ]
  },
  {
   "cell_type": "markdown",
   "metadata": {},
   "source": [
    "В Julia можно разбивать код программы на модули (*modules*).\n",
    "Модуль создаёт собственное пространство имён и может быть прекомпилирован.\n",
    "\n",
    "Основной синтаксис выглядит так.\n",
    "\n",
    "```julia\n",
    "module Points\n",
    "using LinearAlgebra\n",
    "export dist, Point\n",
    "include(\"types.jl\")\n",
    "include(\"functions.jl\")\n",
    "private_foo() = println(\"Hello!\")\n",
    "end # module\n",
    "```"
   ]
  },
  {
   "cell_type": "markdown",
   "metadata": {},
   "source": [
    "Всё, что между командами `module ... end` представляет собой модуль.\n",
    "В данном примере создаётся модуль `Points`. \n",
    "\n",
    "Инструкция `using LinearAlgebra` импортирует публичные имена из модуля `LinearAlgebra`.\n",
    "При таком вызове, например, функция `LinearAlgebra.norm` из модуля доступна просто по имени `norm`.\n",
    "Фактически, программист так указывает зависимости модуля `Points` от других модулей.\n",
    "\n",
    "Модуль `Points` также делает имена `dist` и `Point` публичными. Т.е., когда кто-нибудь импортирует `Points` командой `using`, то ему будут доступны имена `dist` и `Point`. Точно также где-то в исходном коде модуля `LinearAlgebra` происходит экспорт имени `norm`.\n",
    "\n",
    "Функция `include(\"<path_to_file>\")` делает подстановку содержимого файла в модуль.\n",
    "В Julia позднее связывание имён, поэтому вы можете спокойно экспортировать что-то, а объявить где-то позднее."
   ]
  },
  {
   "cell_type": "markdown",
   "metadata": {},
   "source": [
    "### Как импортировать свой модуль?"
   ]
  },
  {
   "cell_type": "markdown",
   "metadata": {},
   "source": [
    "Если модуль `Points` помещён в файл `myscripts/Points.jl`, то можно импортировать модуль так\n",
    "```julia\n",
    "include(\"myscripts/Points.jl\")  # В общем случае полный путь до файла с исходным кодом модуля\n",
    "using .Points\n",
    "\n",
    "@show dist(Point(1, 2))\n",
    "```\n",
    "Здесь функцией `include` совершается подстановка содержимого файла с модулем, как будто бы мы его скопировали сюда.\n",
    "Затем используется `using .Points` -- заметьте точку.\n",
    "По умолчанию Julia ищет модули (а точнее, пакет) в текущем окружении.\n",
    "Глобальное окружение вы можете посмотреть в REPL командой `] status` -- она покажет список установленных пакетов (но не покажет стандартные библиотеки).\n",
    "В нашем случае пакет не создавался и регистрировался в глобальном окружении, поэтому команда `using Points` привела бы к ошибке.\n",
    "Но, с помощью `.` поиск модуля осуществляется относительно скрипта, а не окружения.\n",
    "Кроме того, есть `..` для обращения к родительскому модулю."
   ]
  },
  {
   "cell_type": "markdown",
   "metadata": {},
   "source": [
    "### using и import"
   ]
  },
  {
   "cell_type": "markdown",
   "metadata": {},
   "source": [
    "Для импортирования существуют инструкции `using` и `import`.\n",
    "Их главное отличие в назначении.\n",
    "\n",
    "Инструкция `using` предназначена для использования кода модуля *пользователем*.\n",
    "Например, `using LinearAlgebra` позволяет нам, как пользователям модуля `LinearAlgebra`, использовать функции `norm`, `cross`...\n",
    "\n",
    "Инструкция `import` отличается от `using` тем, что позволяет переопределять и создавать новые методы для функций, определённых в импортированном модуле.\n",
    "Другими словами, `import` для разработчиков.\n",
    "Например, чтобы добавить метод скалярного произведения для собственного типа данных, придётся воспользоваться `import LinearAlgebra`."
   ]
  },
  {
   "cell_type": "markdown",
   "metadata": {},
   "source": [
    "* `using Points`:\n",
    "\n",
    "  - `Points`, и публичные `dist`, `Point`, остальные через точку: `Points.private_foo`\n",
    "\n",
    "* `using Points: dist`:\n",
    "\n",
    "  - Только `dist`\n",
    "\n",
    "* `using Points: dist as d`:\n",
    "\n",
    "  - Только `d`\n",
    "\n",
    "* `import Points`:\n",
    "\n",
    "  - `Points`, остальные через точку\n",
    "\n",
    "* `import Points as Pnts`:\n",
    "\n",
    "  - `Pnts`, остальные через точку"
   ]
  },
  {
   "cell_type": "markdown",
   "metadata": {},
   "source": [
    "### Пример разработки модуля"
   ]
  },
  {
   "cell_type": "markdown",
   "metadata": {},
   "source": [
    "Ниже показана разработка модуля в несколько этапов. В нём привычная структура `Point{T}`, а её интерфейс оборачивается в модуль. Затем, для примера, структура встраивается в существующую экосистему языка: можно скалярно умножать точки, складывать или умножать на скаляр."
   ]
  },
  {
   "cell_type": "markdown",
   "metadata": {},
   "source": [
    "```julia\n",
    "module Points\n",
    "\n",
    "import LinearAlgebra  # для добавления метода к скалярному произведению\n",
    "\n",
    "export dist\n",
    "export Point\n",
    "\n",
    "struct Point{T}\n",
    "    x::T\n",
    "    y::T\n",
    "end\n",
    "\n",
    "dist(p::Point) = sqrt(p.x^2 + p.y^2)\n",
    "random_point() = Point(rand(2)...)\n",
    "\n",
    "# Добавление метода к скалярному произведению LinearAlgebra.dot\n",
    "LinearAlgebra.dot(p1::Point, p2::Point) = p1.x * p2.x + p1.y * p2.y\n",
    "\n",
    "# Расширяение стандартной библиотеки языка, модуля Base\n",
    "# `+` коммутативно\n",
    "Base.:+(p1::Point, p2::Point) = Point(p1.x + p2.x, p1.y + p2.y)\n",
    "# `*` не коммутативно\n",
    "Base.:*(α::Number, p::Point) = Point(α * p.x, α * p.y)\n",
    "Base.:*(p::Point, α::Number) = α * p\n",
    "\n",
    "end # module\n",
    "```"
   ]
  },
  {
   "cell_type": "code",
   "execution_count": 1,
   "metadata": {},
   "outputs": [
    {
     "name": "stdout",
     "output_type": "stream",
     "text": [
      "Point{Float64}(4.0, 6.1)\n",
      "Point{Int64}(2, 4)\n",
      "Point{Float64}(2.0, 4.0)\n"
     ]
    }
   ],
   "source": [
    "include(\"data/Points.jl\")\n",
    "using .Points\n",
    "\n",
    "println(Point(1, 2) + Point(3.0, 4.1))\n",
    "println(2 * Point(1, 2))\n",
    "println(Point(1, 2) * 2.0)"
   ]
  },
  {
   "cell_type": "markdown",
   "metadata": {},
   "source": [
    "### Разбиение исходного кода на файлы"
   ]
  },
  {
   "cell_type": "markdown",
   "metadata": {},
   "source": [
    "Когда исходный код разрастается, его разбивают на отдельные файлы.\n",
    "Для библиотеки кода в Julia типично наличие корневого файла, в котором объявлен модуль, зависимости от других библиотек и экспортируемые имена, а оставшийся код библиотеки подставлятся с помощью `include`.\n",
    "Весь код библиотеки помещают в директорию `src`, а корневой файл называют также, как и главный модуль библиотеки.\n",
    "\n",
    "От реальной структуры отличается только отстутсвием файла с зависимостями пакета.\n",
    "\n",
    "Ниже показана типичная структура исходного когда библиотеки.\n",
    "\n",
    "Структура библиотеки и `Points.jl`\n",
    "\n",
    "Структура директории:\n",
    "``` Structure\n",
    "  src/\n",
    "   ├─operators.jl\n",
    "   ├─interface.jl\n",
    "   ├─types.jl\n",
    "   └─Points.jl\n",
    "```"
   ]
  },
  {
   "cell_type": "markdown",
   "metadata": {},
   "source": [
    "Код модуля `src/Points.jl`:\n",
    "\n",
    "```julia\n",
    "module Points\n",
    "import LinearAlgebra\n",
    "export dist\n",
    "export Point\n",
    "include(\"types.jl\")\n",
    "include(\"interface.jl\")\n",
    "include(\"operators.jl\")\n",
    "end # module\n",
    "```\n",
    "\n",
    "`src/types.jl`:\n",
    "```julia\n",
    "struct Point{T}\n",
    "    x::T\n",
    "    y::T\n",
    "end\n",
    "```\n",
    "\n",
    "`src/interface.jl`:\n",
    "```julia\n",
    "dist(p::Point) = sqrt(p.x^2 + p.y^2)\n",
    "random_point() = Point(rand(2)...)\n",
    "```\n",
    "\n",
    "`src/operators.jl`:\n",
    "```julia\n",
    "LinearAlgebra.dot(p1::Point, p2::Point) = p1.x * p2.x + p1.y * p2.y\n",
    "Base.:+(p1::Point, p2::Point) = Point(p1.x + p2.x, p1.y + p2.y)\n",
    "Base.:*(α::Number, p::Point) = Point(α * p.x, α * p.y)\n",
    "Base.:*(p::Point, α::Number) = α * p\n",
    "```"
   ]
  },
  {
   "cell_type": "markdown",
   "metadata": {},
   "source": [
    "### Пакеты"
   ]
  },
  {
   "cell_type": "markdown",
   "metadata": {},
   "source": [
    "\n",
    "Пакет (*package*) это инструмент для распространения библиотеки кода среди пользователей.\n",
    "Пакет содержит саму библиотеку кода и метаинформацию о нём, необходимую для идентификации пакета в системе и корректной установки.\n",
    "Кроме того, пакет может содержать примеры применения и набор тестов.\n",
    "\n",
    "Пакеты в Julia создаются с помощью Pkg-mode в Julia REPL.\n",
    "Сам пакет представляет из себя git-репозиторий со следующей структурой\n",
    "\n",
    "``` Structure\n",
    "  AwesomeLibrary/\n",
    "   ├─src/\n",
    "   │  ├─AwesomeLibrary.jl\n",
    "   │  └─ ...\n",
    "   ├─tests/\n",
    "   │  └─ ...\n",
    "   └─Project.toml\n",
    "```\n",
    "\n",
    "Непосредственный код библиотеки содержится в `src/` и имеет ту же структуру, которую мы рассмотрели в примере разработки модуля.\n",
    "В `tests/` содержится система тестирования кода библиотеки.\n",
    "В `Project.toml` содержится информация об авторе пакета, его уникальный номер, а также перечисление программных библиотек с версиями, которые необходимы для работы пакета (зависимостей).\n",
    "\n",
    "Пакеты можно разрабатывать и использовать локально.\n",
    "Это лучше всего делать в директории `~/.julia/dev/`.\n",
    "Также, если вы хотите внести изменения не в свой пакет, то для этого используется `] dev`, а исходный код появится в `~/.julia/dev/`.\n",
    "\n",
    "Для распространения пакеты публикуются на git-платформе, обычно на GitHub, например, [DataFrames.jl](https://github.com/JuliaData/DataFrames.jl) или [Unitful.jl](https://github.com/PainterQubits/Unitful.jl).\n",
    "Кроме того, пакеты обычно регистрируются в реестре пакетов для удобства поиска пользователями.\n",
    "Реестр также является git-репозиторием и хранит информацию о всех зарегистрированных версиях пакетов.\n",
    "В REPL вы можете посмотреть добавленные реестры командой `] registry status`.\n",
    "Скорее всего, там окажется `General` реестр -- официальный реестр пакетов для Julia.\n",
    "Можно искать пакеты в REPL, на github или на интернет-платформе, вроде [такой](https://juliapackages.com/).\n",
    "\n",
    "Зарегистрированные в реестре пакеты устанавливаются просто: `] add PackageName`, например, `] add DataFrames`.\n",
    "После этой команды Julia запросит информацию в реестрах о пакете `DataFrames`, найдёт его фактическое расположение, скачает и установит все зависимости.\n",
    "Список установленных пакетов в окружении можно узнать командой `] status`.\n",
    "\n",
    "В Julia пакеты имеют независимые окружения.\n",
    "Т.е. зависимости пакета изолированы от остальных окружений, в том числе от глобального.\n",
    "Это уменьшает количество конфликтов версий между используемыми библиотеками.\n",
    "\n",
    "Полная информация об окружении содержится в файле `Project.toml`.\n",
    "Если вы хотите поделиться кодом, который использует библиотеки, то можно вместе с ним передать `Project.toml` файл.\n",
    "Так поступают для Jupyter ноутбуков, а в Pluto.jl информация об окружении содержится внутри скрипта.\n",
    "\n",
    "В окружение также входит файл `Manifest.toml`, создаваемый автоматически.\n",
    "В нём содержится полная и точная информация о зависимостях пакета для вашего компьютера.\n",
    "Т.е. какая библиотека откуда берётся.\n"
   ]
  },
  {
   "cell_type": "markdown",
   "metadata": {},
   "source": [
    "## 5.2. Линейная алгебра"
   ]
  },
  {
   "cell_type": "markdown",
   "metadata": {},
   "source": [
    "В Julia богатая стандартная библиотека операций линейной алгебры. Часто используемые инструменты доступны сразу.\n",
    "\n",
    "Ниже представлены примеры операций для этих векторов и матриц."
   ]
  },
  {
   "cell_type": "code",
   "execution_count": 2,
   "metadata": {},
   "outputs": [
    {
     "name": "stdout",
     "output_type": "stream",
     "text": [
      "(2a + b) - a / 2 = [5.5, 8.0, 10.5]\n",
      "A / 2 + 2B = [-1.5 -3.0; -4.5 -6.0]\n",
      "A * c = [5, 11]\n",
      "A * B = [-7 -10; -15 -22]\n",
      "a' = [1 2 3]\n",
      "A' = [1 3; 2 4]\n",
      "C' = Complex{Int64}[0 - 1im 3 + 0im; 2 + 0im 0 + 1im]\n",
      "x = A \\ [1, 2] = [0.0, 0.5]\n",
      "inv(A) = [-1.9999999999999996 0.9999999999999998; 1.4999999999999998 -0.4999999999999999]\n"
     ]
    },
    {
     "data": {
      "text/plain": [
       "2×2 Matrix{Float64}:\n",
       " -2.0   1.0\n",
       "  1.5  -0.5"
      ]
     },
     "metadata": {},
     "output_type": "display_data"
    }
   ],
   "source": [
    "a = [1, 2, 3]\n",
    "b = [4, 5, 6]\n",
    "c = [1; 2]\n",
    "\n",
    "A = [1 2; \n",
    "     3 4]\n",
    "B = [-1 -2; \n",
    "     -3 -4]\n",
    "C = [1im 2  ;\n",
    "     3  -1im]\n",
    "# Линейные операции:\n",
    "@show 2*a + b - a / 2\n",
    "@show A/2 + 2*B\n",
    "\n",
    "# Матричное умножение\n",
    "@show A * c\n",
    "@show A * B\n",
    "\n",
    "# Транспонирование\n",
    "@show a'\n",
    "@show A'\n",
    "\n",
    "# Для комплексных матриц `'`-оператор выполняет эрмитово сопряжение.\n",
    "@show C';\n",
    "\n",
    "# Решение СЛАУ\n",
    "@show x = A \\ [1, 2]\n",
    "\n",
    "# Обратная матрица\n",
    "@show inv(A)"
   ]
  },
  {
   "cell_type": "markdown",
   "metadata": {},
   "source": [
    "### LinearAlgebra"
   ]
  },
  {
   "cell_type": "markdown",
   "metadata": {},
   "source": [
    "Хотя большая часть линейной алгебры доступна в Julia по умолчанию (как показано выше), есть стандартная библиотека с именем `LinearAlgebra`, которая включает в себя гораздо больше релевантных имен и функций. В частности, он предоставляет факторизации и некоторые типы структурированных матриц. Как и во всех пакетах, вы можете использовать эти дополнительные функции в своем сеансе с помощью `using LinearAlgebra`."
   ]
  },
  {
   "cell_type": "code",
   "execution_count": 3,
   "metadata": {},
   "outputs": [
    {
     "name": "stdout",
     "output_type": "stream",
     "text": [
      "det(A) = -2.0\n",
      "tr(A) = 5\n",
      "norm(a) = 3.7416573867739413\n",
      "dot(a, b) = 32\n",
      "a ⋅ b = 32\n",
      "A ⋅ B = -30\n",
      "cross(a, b) = [-3, 6, -3]\n",
      "a × b = [-3, 6, -3]\n",
      "eigvals(A) = [-0.3722813232690143, 5.372281323269014]\n"
     ]
    }
   ],
   "source": [
    "using LinearAlgebra\n",
    "# стандартные функции\n",
    "@show det(A) # детерминант\n",
    "@show tr(A) # след\n",
    "@show norm(a) # норма\n",
    "\n",
    "# скалярное умножение\n",
    "@show dot(a, b)\n",
    "@show a ⋅ b #\\cdot + TAB\n",
    "@show A ⋅ B \n",
    "\n",
    "# векторное умножение\n",
    "@show cross(a, b)\n",
    "@show a × b  # \\times + TAB\n",
    "\n",
    "# cобственные значения\n",
    "@show eigvals(A)\n",
    "\n",
    "A = rand(3, 3)\n",
    "x = fill(1, (3,))\n",
    "b = A * x;"
   ]
  },
  {
   "cell_type": "markdown",
   "metadata": {},
   "source": [
    "### Факторизация"
   ]
  },
  {
   "cell_type": "markdown",
   "metadata": {},
   "source": [
    "**LU-факторизация**\n",
    "```julia\n",
    "PA = LU\n",
    "``` \n",
    "где `P` матрица перестановок, `L` нижняя треугольная матрица и `U` - верхняя. Используется `lufact`.\n",
    "\n",
    "Julia позволяет вычислять  LU-факторизацию и определяет составной тип факторизации для его хранения."
   ]
  },
  {
   "cell_type": "code",
   "execution_count": 4,
   "metadata": {},
   "outputs": [
    {
     "name": "stdout",
     "output_type": "stream",
     "text": [
      "typeof(Alu) = LU{Float64, Matrix{Float64}, Vector{Int64}}\n",
      "Alu.P = [0.0 1.0 0.0; 1.0 0.0 0.0; 0.0 0.0 1.0]\n",
      "Alu.L = [1.0 0.0 0.0; 0.11593147828135314 1.0 0.0; 0.9556929327550823 0.3532152648968352 1.0]\n",
      "Alu.U = [0.8624309894297549 0.3554984851454187 0.20579039458482895; 0.0 0.7331121005518092 0.39780727910539515; 0.0 0.0 0.11689820227739639]\n",
      "A \\ b = [0.9999999999999999, 1.0000000000000002, 0.9999999999999996]\n",
      "Alu \\ b = [0.9999999999999999, 1.0000000000000002, 0.9999999999999996]\n",
      "det(A) ≈ det(Alu) = true\n"
     ]
    }
   ],
   "source": [
    "Alu = lu(A)\n",
    "@show typeof(Alu)\n",
    "@show Alu.P\n",
    "@show Alu.L\n",
    "@show Alu.U;\n",
    "\n",
    "@show A\\b\n",
    "@show Alu\\b\n",
    "@show det(A) ≈ det(Alu);"
   ]
  },
  {
   "cell_type": "markdown",
   "metadata": {},
   "source": [
    "**QR-факторизация**\n",
    "```\n",
    "A=QR\n",
    "``` \n",
    "\n",
    "где `Q` унитарная/ортогональная матрица и `R` верхнетреугольная матрица. Используется `qrfact`. "
   ]
  },
  {
   "cell_type": "code",
   "execution_count": 5,
   "metadata": {},
   "outputs": [
    {
     "name": "stdout",
     "output_type": "stream",
     "text": [
      "Aqr.Q = LinearAlgebra.QRCompactWYQ{Float64, Matrix{Float64}, Matrix{Float64}}([-1.1971303538002684 -0.7329754254808017 -0.4961051916530409; 0.6648848797296597 0.7396894724942118 0.4162386518719645; 0.6354257806533486 0.25900982723469484 0.08346640213151071], [1.0835188074572226 -1.6844797322001315 0.0; 6.9359543723792e-310 1.8742630211473104 0.0; 6.9359543723792e-310 6.93595540394794e-310 0.0])\n",
      "Aqr.R = [-1.1971303538002684 -0.7329754254808017 -0.4961051916530409; 0.0 0.7396894724942118 0.4162386518719645; 0.0 0.0 0.08346640213151071]\n"
     ]
    }
   ],
   "source": [
    "Aqr = qr(A)\n",
    "@show Aqr.Q\n",
    "@show Aqr.R;"
   ]
  },
  {
   "cell_type": "markdown",
   "metadata": {},
   "source": [
    "**Спектральное разложение матрицы**\n",
    "\n",
    "Результаты собственных разложений, разложения по сингулярным числам, разложения по Гессенбергу и разложения Шура хранятся в типах `Factorization`. \n",
    "\n",
    "Собственная декомпозиция может быть вычислена как:"
   ]
  },
  {
   "cell_type": "code",
   "execution_count": 6,
   "metadata": {},
   "outputs": [
    {
     "name": "stdout",
     "output_type": "stream",
     "text": [
      "AsymEig.values = [-1.311103656125741, 0.06363484068534975, 3.066596047727915]\n",
      "AsymEig.vectors = [0.798830355099682 -0.15600955427680913 -0.5809742530832732; -0.5470825983111212 -0.5900072020532066 -0.5937946885502589; -0.25014134883395095 0.7921821258395685 -0.5566657750426496]\n"
     ]
    }
   ],
   "source": [
    "Asym = A + A'\n",
    "AsymEig = eigen(Asym)\n",
    "\n",
    "#Значения и векторы могут быть извлечены из типа Eigen:\n",
    "@show AsymEig.values\n",
    "@show AsymEig.vectors;"
   ]
  },
  {
   "cell_type": "markdown",
   "metadata": {},
   "source": [
    "Еще раз, когда факторизация хранится в типе, мы можем отправить его и написать специальные методы, которые используют свойства факторизации, например, $A^{-1}=(V\\Lambda V^{-1})^{-1}=V\\Lambda^{-1}V^{-1}$."
   ]
  },
  {
   "cell_type": "code",
   "execution_count": 7,
   "metadata": {},
   "outputs": [
    {
     "data": {
      "text/plain": [
       "3×3 Matrix{Float64}:\n",
       "  1.0          -4.44089e-15  9.10383e-15\n",
       " -1.95399e-14   1.0          4.17444e-14\n",
       "  2.30926e-14   2.04281e-14  1.0"
      ]
     },
     "metadata": {},
     "output_type": "display_data"
    }
   ],
   "source": [
    "inv(AsymEig)*Asym"
   ]
  },
  {
   "cell_type": "markdown",
   "metadata": {},
   "source": [
    "### Специальные матричные структуры"
   ]
  },
  {
   "cell_type": "markdown",
   "metadata": {},
   "source": [
    "Мы можем объявить структуру явно с помощью, например, `Diagonal`, `Triangular`, `Symmetric`, `Hermitian`, `Tridiagonal` и `SymTridiagonal`."
   ]
  },
  {
   "cell_type": "code",
   "execution_count": 8,
   "metadata": {},
   "outputs": [
    {
     "name": "stdout",
     "output_type": "stream",
     "text": [
      "Diagonal(a) = [1 0 0; 0 10 0; 0 0 100]\n",
      "Symmetric(B) = [1.5 2.0 -4.0; 2.0 -1.0 -3.0; -4.0 -3.0 5.0]\n",
      "Hermitian(B) = [1.5 2.0 -4.0; 2.0 -1.0 -3.0; -4.0 -3.0 5.0]\n",
      "UpperTriangular(B) = [1.5 2.0 -4.0; 0.0 -1.0 -3.0; 0.0 0.0 5.0]\n",
      "LowerTriangular(B) = [1.5 0.0 0.0; 2.0 -1.0 0.0; -4.0 -3.0 5.0]\n"
     ]
    }
   ],
   "source": [
    "a = [1, 10, 100]\n",
    "B = [ 1.5  2 -4; \n",
    "      2.0 -1 -3; \n",
    "     -4.0 -3  5]\n",
    "     \n",
    "@show Diagonal(a)\n",
    "@show Symmetric(B)\n",
    "@show Hermitian(B)\n",
    "@show UpperTriangular(B)\n",
    "@show LowerTriangular(B);\n"
   ]
  },
  {
   "cell_type": "markdown",
   "metadata": {},
   "source": [
    "## 5.3. Как обработать лабу"
   ]
  },
  {
   "cell_type": "markdown",
   "metadata": {},
   "source": [
    "Короткая демонстрация потенциальных возможностей графики в Julia:"
   ]
  },
  {
   "cell_type": "code",
   "execution_count": 1,
   "metadata": {},
   "outputs": [
    {
     "name": "stderr",
     "output_type": "stream",
     "text": [
      "┌ Info: Saved animation to /tmp/jl_g5a18ZW9Mz.gif\n",
      "└ @ Plots /home/helga/.julia/packages/Plots/ju9dp/src/animation.jl:156\n"
     ]
    }
   ],
   "source": [
    "using Plots\n",
    "# define the Lorenz attractor\n",
    "Base.@kwdef mutable struct Lorenz\n",
    "    dt::Float64 = 0.02\n",
    "    σ::Float64 = 10\n",
    "    ρ::Float64 = 28\n",
    "    β::Float64 = 8/3\n",
    "    x::Float64 = 1\n",
    "    y::Float64 = 1\n",
    "    z::Float64 = 1\n",
    "end\n",
    "\n",
    "function step!(l::Lorenz)\n",
    "    dx = l.σ * (l.y - l.x)\n",
    "    dy = l.x * (l.ρ - l.z) - l.y\n",
    "    dz = l.x * l.y - l.β * l.z\n",
    "    l.x += l.dt * dx\n",
    "    l.y += l.dt * dy\n",
    "    l.z += l.dt * dz\n",
    "end\n",
    "\n",
    "attractor = Lorenz()\n",
    "\n",
    "\n",
    "# initialize a 3D plot with 1 empty series\n",
    "plt = plot3d(\n",
    "    1,\n",
    "    xlim = (-30, 30),\n",
    "    ylim = (-30, 30),\n",
    "    zlim = (0, 60),\n",
    "    title = \"Lorenz Attractor\",\n",
    "    legend = false,\n",
    "    marker = 2,\n",
    ")\n",
    "\n",
    "# build an animated gif by pushing new points to the plot, saving every 10th frame\n",
    "@gif for i=1:1500\n",
    "    step!(attractor)\n",
    "    push!(plt, attractor.x, attractor.y, attractor.z)\n",
    "end every 10;"
   ]
  },
  {
   "cell_type": "markdown",
   "metadata": {},
   "source": [
    "### Plots"
   ]
  },
  {
   "cell_type": "markdown",
   "metadata": {},
   "source": [
    "Есть несколько разных способов построения графика в Julia (включая вызов PyPlot). \n",
    "\n",
    "Здесь мы рассмотрим, как использовать `Plots.jl`. Если он еще не установлен, вам нужно использовать менеджер пакетов для его установки, и Julia прекомпилирует его для вас при первом использовании:"
   ]
  },
  {
   "cell_type": "code",
   "execution_count": 4,
   "metadata": {},
   "outputs": [
    {
     "data": {
      "text/plain": [
       "Plots.PlotlyBackend()"
      ]
     },
     "metadata": {},
     "output_type": "display_data"
    }
   ],
   "source": [
    "#using Pkg\n",
    "#Pkg.add(\"Plots\")\n",
    "#Pkg.add(\"Plotly\")\n",
    "using Plots\n",
    "using LaTeXStrings\n",
    "using LsqFit\n",
    "\n",
    "globaltemperatures = [14.4, 14.5, 14.8, 15.2, 15.5, 15.8]\n",
    "numpirates = [45000, 20000, 15000, 5000, 400, 17];\n",
    "\n",
    "# Фиттирование функцией\n",
    "exp_pir(x, p) = p[1] .* x.^(-1) .+ p[2] \n",
    "p0 = [14.0, 2.0e4]\n",
    "fitt = curve_fit(exp_pir, numpirates, globaltemperatures, p0)\n",
    "A, κ = fitt.param\n",
    "dA, dκ = margin_error(fitt)\n",
    "Exp(x) = exp_pir(x, fitt.param)\n",
    "\n",
    "# Режим отображения\n",
    "# Для отображения в терминале есть специальный режим:\n",
    "# using UnicodePlots\n",
    "# unicodeplots()\n",
    "\n",
    "plotly() # можно попробовать gr()"
   ]
  },
  {
   "cell_type": "markdown",
   "metadata": {},
   "source": [
    "Одним из преимуществ `Plots.jl` является то, что он позволяет вам легко менять серверные части. В этом блокноте мы опробуем бэкенды `plotly()` и `plotlyjs ()`. \n",
    "\n",
    "Во имя научного исследования давайте воспользуемся этой записной книжкой для изучения взаимосвязи между глобальной температурой и числом пиратов между примерно 1860 и 2000 годами."
   ]
  },
  {
   "cell_type": "code",
   "execution_count": 5,
   "metadata": {},
   "outputs": [],
   "source": [
    "# Отрисовка линии на графике\n",
    "plot(numpirates, globaltemperatures, label=\"line\", lc=:blue, ls=:dash) \n",
    "\n",
    "# Отрисовка функции на графике\n",
    "plot!(numpirates->Exp(numpirates); seriestype=:path, lc=:black, ls=:dash, label=\"spline\") \n",
    "\n",
    "# Отрисовка точек на графике\n",
    "scatter!(numpirates, globaltemperatures, label=\"points\", mc=:green, ms=5, ma=10, lc=:black) \n",
    "\n",
    "# Латеховская строка по литералу\n",
    "ylabel!(L\"Global Temperature (C $\\circ$)\")\n",
    "xlabel!(\"Number of Pirates [Approximate]\")\n",
    "title!(\"Influence of pirate population on global warming\")"
   ]
  },
  {
   "cell_type": "markdown",
   "metadata": {},
   "source": [
    "### Unitful"
   ]
  },
  {
   "cell_type": "markdown",
   "metadata": {},
   "source": [
    "Ещё одна очень полезная библиотека для физиков - это Unitful и различные её расширения (например, UnitfulAstro). Библиотека добавляет размерные единицы измерений, которые задаются через строковые литералы u\"...\""
   ]
  },
  {
   "cell_type": "code",
   "execution_count": 13,
   "metadata": {},
   "outputs": [
    {
     "name": "stdout",
     "output_type": "stream",
     "text": [
      "K |> u\"mJ\" = 1.988469 mJ\n",
      "K / P |> NoUnits = 8.1e-5\n",
      "dimension(K) = 𝐋^2 𝐌 𝐓^-2\n",
      "uconvert(u\"mW*s\", 20 * u\"dBm/Hz\") = 100.0 s mW\n",
      "1.0 * u\"V/sqrt(Hz)\" = 1.0 V Hz^-1/2\n",
      "uconvert(u\"hr\", 3602 * u\"s\") = 1801//1800 hr\n",
      "(u\"cm\")(1 * u\"m\") = 100 cm\n",
      "1 * u\"m\" |> u\"cm\" = 100 cm\n",
      "promote(1.0 * u\"J/K\", 1.0 * u\"g*cm^2/s^2/K\") = (1.0 kg m^2 K^-1 s^-2, 1.0e-7 kg m^2 K^-1 s^-2)\n",
      "upreferred(u\"N*m\") = kg m^2 s^-2\n",
      "u\"ħ\" = 1.0545718176461565e-34 J s\n",
      "K |> u\"erg\" = 19884.69 erg\n",
      "au |> u\"cm\" = 1.495978707e13 cm\n",
      "m_ns |> u\"g\" = 2.9826148060470766e33 g\n"
     ]
    }
   ],
   "source": [
    "using Unitful\n",
    "using UnitfulAstro\n",
    "using LinearAlgebra\n",
    "\n",
    "m = 250.5u\"g\"\n",
    "V = 12.6u\"cm/s\"\n",
    "g = 9.8u\"m/s^2\"\n",
    "h = 10.0u\"m\"\n",
    "K = m * V^2 / 2\n",
    "P = m * g * h\n",
    "\n",
    "# Приведение единиц измерения (к мДж)\n",
    "@show K |> u\"mJ\"\n",
    "\n",
    "# Приведение к безразмерной величине\n",
    "@show K/P |> NoUnits\n",
    "\n",
    "# Проверка размерности\n",
    "@show dimension(K)\n",
    "\n",
    "# Логарифмические единицы\n",
    "@show uconvert(u\"mW*s\", 20u\"dBm/Hz\")\n",
    "\n",
    "# Степенные величины\n",
    "@show 1.0u\"V/sqrt(Hz)\"\n",
    "\n",
    "# Различные варианты конвертации\n",
    "@show uconvert(u\"hr\",3602u\"s\")\n",
    "@show u\"cm\"(1u\"m\")\n",
    "@show 1u\"m\" |> u\"cm\"\n",
    "\n",
    "# Приведение к общему типу\n",
    "@show promote(1.0u\"J/K\", 1.0u\"g*cm^2/s^2/K\")\n",
    "\n",
    "# Перевод в СИ\n",
    "@show upreferred(u\"N*m\")\n",
    "\n",
    "# Приведенная постоянная Планка\n",
    "@show u\"ħ\"\n",
    "\n",
    "# Астрономические единицы\n",
    "@show K |> u\"erg\"\n",
    "au = 1.0u\"AU\"\n",
    "@show au |> u\"cm\"\n",
    "m_ns = 1.5u\"Msun\"\n",
    "@show m_ns |> u\"g\";"
   ]
  }
 ],
 "metadata": {
  "kernelspec": {
   "display_name": "Julia 1.10.3",
   "language": "julia",
   "name": "julia-1.10"
  },
  "language_info": {
   "file_extension": ".jl",
   "mimetype": "application/julia",
   "name": "julia",
   "version": "1.10.3"
  }
 },
 "nbformat": 4,
 "nbformat_minor": 2
}
